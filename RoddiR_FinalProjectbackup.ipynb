{
 "cells": [
  {
   "cell_type": "code",
   "execution_count": 1,
   "metadata": {},
   "outputs": [
    {
     "data": {
      "text/plain": [
       "'C:\\\\Users\\\\rodriguezr\\\\OneDrive - William Paterson University\\\\WP_Masters\\\\Ban7750-70_FinancialAnalytics\\\\Python\\\\assignment4\\\\A4'"
      ]
     },
     "execution_count": 1,
     "metadata": {},
     "output_type": "execute_result"
    }
   ],
   "source": [
    "%pwd"
   ]
  },
  {
   "cell_type": "markdown",
   "metadata": {},
   "source": [
    "### Import Libraries"
   ]
  },
  {
   "cell_type": "code",
   "execution_count": 2,
   "metadata": {},
   "outputs": [],
   "source": [
    "import pandas as pd\n",
    "import numpy as np\n",
    "import matplotlib.pyplot as plt\n",
    "#pip install plotly-express\n",
    "#import plotly.express as px\n",
    "import seaborn as sns\n",
    "import scipy.stats as stats\n",
    "from scipy.stats import kurtosis\n",
    "from scipy.stats import skew\n",
    "import math\n",
    "import matplotlib\n",
    "import pandas.plotting\n",
    "from IPython import display\n",
    "from ipywidgets import interact, widgets\n",
    "sns.set_style('ticks')\n",
    "import warnings\n",
    "warnings.filterwarnings('ignore')\n",
    "from sklearn.linear_model import LinearRegression as lr\n",
    "import re\n",
    "import math\n",
    "from IPython.core.display import display, HTML\n",
    "# This command will activate multiline output [you could also use display()]\n",
    "from IPython.core.interactiveshell import InteractiveShell\n",
    "InteractiveShell.ast_node_interactivity = \"all\"\n",
    "sns.set(style=\"white\")\n",
    "sns.set(style=\"whitegrid\", color_codes=True)"
   ]
  },
  {
   "cell_type": "code",
   "execution_count": 3,
   "metadata": {},
   "outputs": [],
   "source": [
    "# Read Trading Analytics CSV\n",
    "taData = pd.read_csv(\"Trading Analytics.csv\")\n",
    "# Drop (discard) Columns per Notes\n",
    "taData = taData.drop(columns = [' Volume', ' TradeTime', ' EventTime', ' Offer',\n",
    "       ' Bid', ' Buyer', ' Seller', ' buyerID', ' sellerID', ' R per Tr ', 'U per tr Q', ' Unreal Tot $ ', '1stHour?', 'lastHour?', '1stHR_Usr/TOT_vol', 'lastH-Usr/TOT_vol', 'Range',\n",
    "       '(p2/p1)-1', 'ln(p2/p1)', 'Volat = stdev of LN'])\n",
    "# Read Survey Data\n",
    "sData = pd.read_excel(\"Survey_clean.xlsx\", sheet_name = \"Combined\", header = 0)"
   ]
  },
  {
   "cell_type": "markdown",
   "metadata": {},
   "source": [
    "### Clean up Trading Analytics Columns"
   ]
  },
  {
   "cell_type": "code",
   "execution_count": 4,
   "metadata": {},
   "outputs": [],
   "source": [
    "# Fix Columns w/ Leading (and Trailing) spaces and other un-friendly variable name characters\n",
    "for i in range(len(taData.columns)):\n",
    "    # Remove Spaces, -, +, (, ), ., *\n",
    "    taData.columns.values[i] = re.sub(r\"(\\s|-|\\+|\\(|\\)|\\.|\\*)\",\"\",taData.columns[i])\n",
    "    # Remove % symbols w/ Pct\n",
    "    taData.columns.values[i] = re.sub(r\"%\",\"Pct\",taData.columns[i])\n",
    "    # Replace 1st w/ First\n",
    "    taData.columns.values[i] = re.sub(r\"1st\",\"First\",taData.columns[i])\n",
    "    # Replace / w/ _per_\n",
    "    taData.columns.values[i] = re.sub(r\"/\",\"_per_\",taData.columns[i])\n",
    "    # Replace Volu w/ just Vol\n",
    "    taData.columns.values[i] = re.sub(r\"Volu\",\"Vol\",taData.columns[i])\n",
    "#taData.columns\n",
    "taData = taData.rename(columns = {\"IDo\":\"ID\"})\n",
    "# Remove any spaces found within ID variable\n",
    "taData.ID = [re.sub(r\"\\s\",\"\",iD) for iD in taData.ID]\n",
    "# Look for any IDs missing a 'C', and if it is insert\n",
    "for i in range(len(taData)):\n",
    "    if(taData.loc[i,\"ID\"].find(\"C\") < 0):\n",
    "        iD = taData.loc[i,\"ID\"]\n",
    "        taData.loc[i,\"ID\"] = iD[:2] + \"C\" + iD[2:6]"
   ]
  },
  {
   "cell_type": "markdown",
   "metadata": {},
   "source": [
    "### Clean up Survery Data Columns"
   ]
  },
  {
   "cell_type": "code",
   "execution_count": 5,
   "metadata": {},
   "outputs": [],
   "source": [
    "# Rename Columns 0, 1, & 2\n",
    "sData.columns.values[0] = \"ID\"\n",
    "sData.columns.values[1] = \"Gender\"\n",
    "sData.columns.values[2] = \"Strategy\"\n",
    "\n",
    "#sData.Strategy.unique()\n",
    "#sData.Q1.unique()\n",
    "# Create a JSON object for mapping the Question responses into numeric values\n",
    "QRespMap = {'Strongly Agree' : 5, 'Agree' : 4, 'Neither Agree nor Disagree' : 3, 'Disagree' : 2, 'Strongly Disagree' : 1}\n",
    "# Create a JSON object for mapping the Strategy as a Dummy Variable\n",
    "StratMap = {'SELL FIRST AND THEN BUY LATER to make profit (when Stock price is going to DECREASE towards the end of the day)' : 0, 'BUY FIRST AND THEN SELL LATER to make profit (when Stock price is going to INCREASE towards the end of the day)' : 1}\n",
    "#sData.Q1.astype(\"category\")\n",
    "# Loop through Columns and covert to ordinal values\n",
    "for col in sData.columns:\n",
    "    sData[col].replace(StratMap, inplace = True)\n",
    "    sData[col].replace(QRespMap, inplace = True)\n",
    "    sData[col].replace({'Yes' : 1, 'No' : 0}, inplace = True)\n",
    "\n",
    "# Extract the Questions from the first [0] row \n",
    "Qs = sData.iloc[0,3:]\n",
    "# Then we can drop this row from our data frame\n",
    "if(type(sData.ID[0]) == float):\n",
    "    if(math.isnan(sData.ID[0])):\n",
    "        sData = sData.drop(0, axis = 0)\n",
    "        # Reset the index, after dropping row 0\n",
    "        sData = sData.reset_index(drop = True)\n",
    "# Remove any spaces found within ID variable\n",
    "sData.ID = [re.sub(r\"\\s\",\"\",iD) for iD in sData.ID]\n",
    "# Look for any IDs missing a 'C', and if it is insert\n",
    "for i in range(len(sData)):\n",
    "    if(sData.loc[i,\"ID\"].find(\"C\") < 0):\n",
    "        iD = sData.loc[i,\"ID\"]\n",
    "        sData.loc[i,\"ID\"] = iD[:2] + \"C\" + iD[2:6]"
   ]
  },
  {
   "cell_type": "markdown",
   "metadata": {},
   "source": [
    "### List of all the Survey Questions"
   ]
  },
  {
   "cell_type": "code",
   "execution_count": 6,
   "metadata": {},
   "outputs": [
    {
     "name": "stdout",
     "output_type": "stream",
     "text": [
      "Q4: I traded based on price movements indicated on the TraderEx screen\n",
      "Q5: I was not concerned about price movements indicated on the TraderEx screen\n",
      "Q1: I traded without considering the information pieces provided to me\n",
      "Q2: I traded using ALL of the information provided to me at each stage\n",
      "Q3: I traded using SOME of the information provided to me at each stage\n",
      "Q6: I did my best to win the maximum possible reward of $ 50.00\n",
      "Q7: I did my best to win at least one of the cash rewards of $ 5 or $ 10 but did not focus on $ 50\n",
      "Q8: I did not want the cash rewards at all\n",
      "Q9: I believe that I can improve on my net profits if I had more information even if I did not have any technological tools to analyze the information\n",
      "Q10: I believe that I can improve on my net profits if I had more technological tools for analysis even if I did not have any additional information\n",
      "Q11: I believe that I can improve on my net profits if I had more \n",
      "technological tools for analysis along with more information\n",
      "Q12: The source (Highly reputed like Wall Street Journal/ Bloomberg versus low/unknown reputation like Sun news) of information would impact my trading decisions\n",
      "Q13: Quantity of information would impact my trading decisions (More or less information would have made a difference).\n",
      "Q14: The medium (news /blog /video/ tool based) of information impacted my trading decisions\n",
      "Q15: I believe that more stock specific information could have helped me to increase my net profits\n",
      "Q16: I would have invested 10 cents of my own money for more information for a better attempt to win the $ 50.00\n",
      "Q17: I would have invested 10 cents of my own money for better tech tools for a stronger attempt to win the $ 50.00\n",
      "Q18: I would have invested $ 1.00 of my own money for more information for a better attempt to win the $ 50.00\n",
      "Q19: I would have invested $ 1.00 of my own money for better tech tools for a stronger attempt to win the $ 50.00\n",
      "Q20: I believe that technological tools can help me to make more profits\n",
      "Q21: I believe that information is more important than technological tools\n",
      "Q22: I believe that technological tools are more important than information\n",
      "Q23: I believe that information and technological tools are equally important\n",
      "Q24: I would have traded differently if the information pieces had contained significantly different future predictions for the company\n",
      "Q26: This experience has made me more interested in trading\n",
      "Q27: I believe that I could have earned more profits if I had MORE information\n",
      "Q45: I believe that I could have earned more profits if I had BETTER information\n",
      "Q28: I believe that I could have earned more profits if I had MORE technological tools for analyzing information\n",
      "Q47: I believe that I could have earned more profits if I had BETTER technological tools for analyzing information\n",
      "Q29: I could have earned more profits if I knew what the others were doing or planning on doing with their trades\n",
      "Q30: I have had prior experience in live trading stock /shares\n"
     ]
    }
   ],
   "source": [
    "for q in Qs.index:\n",
    "    print(q + \": \" + Qs[q])"
   ]
  },
  {
   "cell_type": "markdown",
   "metadata": {},
   "source": [
    "### Drop Duplicate IDs from both datasets\n"
   ]
  },
  {
   "cell_type": "code",
   "execution_count": 7,
   "metadata": {},
   "outputs": [],
   "source": [
    "# Drop rows with duplicate IDs from trading_analysis dataset\n",
    "taData = taData.drop_duplicates(subset = \"ID\")\n",
    "# Drop rows with duplicate IDs from survey dataset\n",
    "sData = sData.drop_duplicates(subset = \"ID\")"
   ]
  },
  {
   "cell_type": "markdown",
   "metadata": {},
   "source": [
    "### Merge the two dataframes by the ID"
   ]
  },
  {
   "cell_type": "code",
   "execution_count": 8,
   "metadata": {},
   "outputs": [],
   "source": [
    "data = taData.merge(sData, left_on = \"ID\", right_on = \"ID\")\n",
    "#if(len(data.ID.unique()) == len(data)):\n",
    "    # Display Smiley Face if the IDs are unique throughout the merged dataset\n",
    "    #display(HTML(\"<p>Each row has it's own unique ID <br /><span style='font-size:50px;'>&#128515;</span></p>\"))\n",
    "#else:\n",
    "    # Display Confused Face if the IDs are NOT unique throughout the merged dataset\n",
    "   # display(HTML(\"<p>There appears to some rows w/ duplicate IDs <span style='font-size:100px;'>&#128533;</span></p>\"))\n",
    "# Create New Variable \"Desk\"\n",
    "data[\"Desk\"] = [iD[0:iD.find(\"C\")] for iD in data.ID]\n",
    "# Create New Variable TraderID\n",
    "data[\"TraderID\"] = [iD[iD.find(\"C\"):] for iD in data.ID]\n",
    "# Convert Gender, Strategy, and Question variables to Category \n",
    "for col in ['Gender', 'Strategy', 'Q4', 'Q5', 'Q1', 'Q2', 'Q3', 'Q6', 'Q7', 'Q8', 'Q9', 'Q10', 'Q11', 'Q12', 'Q13', 'Q14', 'Q15', 'Q16', 'Q17', 'Q18', 'Q19', 'Q20', 'Q21', 'Q22', 'Q23', 'Q24', 'Q26', 'Q27', 'Q45', 'Q28', 'Q47', 'Q29', 'Q30']:\n",
    "    data[col] = data[col].astype(\"category\")\n",
    "#data.info()"
   ]
  },
  {
   "cell_type": "code",
   "execution_count": 9,
   "metadata": {},
   "outputs": [],
   "source": [
    "#data.info(verbose = True, null_counts = False)"
   ]
  },
  {
   "cell_type": "code",
   "execution_count": 10,
   "metadata": {
    "scrolled": true
   },
   "outputs": [],
   "source": [
    "data = data.drop(columns = ['Unnamed:40','Unnamed:41', 'Unnamed:42', 'Unnamed:43', \n",
    "                            'Unnamed:44', 'Unnamed:45', 'Unnamed:46','Unnamed:47',\n",
    "                            'Unnamed:48', 'Unnamed:49', 'Unnamed:50',])\n",
    "\n",
    "#print(data.head())"
   ]
  },
  {
   "cell_type": "markdown",
   "metadata": {},
   "source": [
    "<h3>Exploratory</h3>"
   ]
  },
  {
   "cell_type": "code",
   "execution_count": 11,
   "metadata": {},
   "outputs": [
    {
     "data": {
      "image/png": "[encoded data removed]",
      "text/plain": [
       "<Figure size 864x576 with 1 Axes>"
      ]
     },
     "metadata": {},
     "output_type": "display_data"
    }
   ],
   "source": [
    "ticks = ['Strongly Disagree', 'Disagree', 'Neither Agree nor Disagree', 'Agree', 'Strongly Agree']\n",
    "bins = np.arange(1,7)\n",
    "#for q in Qs.index:\n",
    "\n",
    "fig = plt.figure(figsize=(12, 8))\n",
    "p =data[\"Q29\"].hist(bins = bins, align = \"left\",color=\"r\");\n",
    "n =plt.suptitle(\"Q29\" + \": \" + Qs[\"Q29\"],fontsize=20);\n",
    "plt.title(\"1 = Strongly Disagree - 5 = Strongly Agree\", color=\"blue\", fontsize=20, y=1)\n",
    "n =plt.xticks(bins, ticks, color = \"g\", fontsize=15,rotation=90);\n",
    "n =plt.ylabel(\"Count\", color=\"blue\", fontsize=20);\n",
    "plt.show();\n"
   ]
  },
  {
   "cell_type": "code",
   "execution_count": 12,
   "metadata": {},
   "outputs": [],
   "source": [
    "#data.describe().T"
   ]
  },
  {
   "cell_type": "code",
   "execution_count": 13,
   "metadata": {},
   "outputs": [
    {
     "data": {
      "text/html": [
       "        <script type=\"text/javascript\">\n",
       "        window.PlotlyConfig = {MathJaxConfig: 'local'};\n",
       "        if (window.MathJax) {MathJax.Hub.Config({SVG: {font: \"STIX-Web\"}});}\n",
       "        if (typeof require !== 'undefined') {\n",
       "        require.undef(\"plotly\");\n",
       "        requirejs.config({\n",
       "            paths: {\n",
       "                'plotly': ['https://cdn.plot.ly/plotly-latest.min']\n",
       "            }\n",
       "        });\n",
       "        require(['plotly'], function(Plotly) {\n",
       "            window._Plotly = Plotly;\n",
       "        });\n",
       "        }\n",
       "        </script>\n",
       "        "
      ]
     },
     "metadata": {},
     "output_type": "display_data"
    }
   ],
   "source": [
    "from plotly.offline import init_notebook_mode, iplot\n",
    "import plotly.figure_factory as ff\n",
    "#pip install cufflinks\n",
    "#import cufflinks\n",
    "#cufflinks.go_offline()\n",
    "#cufflinks.set_config_file(world_readable=True, theme='pearl')\n",
    "import plotly.graph_objs as go\n",
    "import chart_studio.plotly as py\n",
    "import plotly\n",
    "from plotly import tools\n",
    "#plotly.tools.set_credentials_file(username='XXX', api_key='XXX')\n",
    "init_notebook_mode(connected=True)\n",
    "pd.set_option('display.max_columns', 100)"
   ]
  },
  {
   "cell_type": "markdown",
   "metadata": {},
   "source": [
    "View the following in notebook only doen't work well with Jupyterlabs. "
   ]
  },
  {
   "cell_type": "code",
   "execution_count": 14,
   "metadata": {},
   "outputs": [
    {
     "data": {
      "application/vnd.plotly.v1+json": {
       "config": {
        "linkText": "Export to plot.ly",
        "plotlyServerURL": "https://plot.ly",
        "showLink": false
       },
       "data": [
        {
         "colorscale": [
          [
           0,
           "#00083e"
          ],
          [
           0.5,
           "#ededee"
          ],
          [
           1,
           "#ffffff"
          ]
         ],
         "hoverinfo": "none",
         "opacity": 0.75,
         "showscale": false,
         "type": "heatmap",
         "uid": "1d11301f-c0a8-4371-b022-81cd267f0835",
         "z": [
          [
           0,
           0,
           0,
           0,
           0
          ],
          [
           0,
           0.5,
           0.5,
           0.5,
           0.5
          ],
          [
           0,
           1,
           1,
           1,
           1
          ],
          [
           0,
           0.5,
           0.5,
           0.5,
           0.5
          ],
          [
           0,
           1,
           1,
           1,
           1
          ],
          [
           0,
           0.5,
           0.5,
           0.5,
           0.5
          ],
          [
           0,
           1,
           1,
           1,
           1
          ],
          [
           0,
           0.5,
           0.5,
           0.5,
           0.5
          ]
         ]
        }
       ],
       "layout": {
        "annotations": [
         {
          "align": "left",
          "font": {
           "color": "#ffffff"
          },
          "showarrow": false,
          "text": "<b>Categorical columns</b>",
          "x": -0.45,
          "xanchor": "left",
          "xref": "x",
          "y": 0,
          "yref": "y"
         },
         {
          "align": "left",
          "font": {
           "color": "#ffffff"
          },
          "showarrow": false,
          "text": "<b>count</b>",
          "x": 0.55,
          "xanchor": "left",
          "xref": "x",
          "y": 0,
          "yref": "y"
         },
         {
          "align": "left",
          "font": {
           "color": "#ffffff"
          },
          "showarrow": false,
          "text": "<b>unique</b>",
          "x": 1.55,
          "xanchor": "left",
          "xref": "x",
          "y": 0,
          "yref": "y"
         },
         {
          "align": "left",
          "font": {
           "color": "#ffffff"
          },
          "showarrow": false,
          "text": "<b>top</b>",
          "x": 2.55,
          "xanchor": "left",
          "xref": "x",
          "y": 0,
          "yref": "y"
         },
         {
          "align": "left",
          "font": {
           "color": "#ffffff"
          },
          "showarrow": false,
          "text": "<b>freq</b>",
          "x": 3.55,
          "xanchor": "left",
          "xref": "x",
          "y": 0,
          "yref": "y"
         },
         {
          "align": "left",
          "font": {
           "color": "#ffffff"
          },
          "showarrow": false,
          "text": "<b>ID</b>",
          "x": -0.45,
          "xanchor": "left",
          "xref": "x",
          "y": 1,
          "yref": "y"
         },
         {
          "align": "left",
          "font": {
           "color": "#000000"
          },
          "showarrow": false,
          "text": "349",
          "x": 0.55,
          "xanchor": "left",
          "xref": "x",
          "y": 1,
          "yref": "y"
         },
         {
          "align": "left",
          "font": {
           "color": "#000000"
          },
          "showarrow": false,
          "text": "349",
          "x": 1.55,
          "xanchor": "left",
          "xref": "x",
          "y": 1,
          "yref": "y"
         },
         {
          "align": "left",
          "font": {
           "color": "#000000"
          },
          "showarrow": false,
          "text": "S6C1b14",
          "x": 2.55,
          "xanchor": "left",
          "xref": "x",
          "y": 1,
          "yref": "y"
         },
         {
          "align": "left",
          "font": {
           "color": "#000000"
          },
          "showarrow": false,
          "text": "1",
          "x": 3.55,
          "xanchor": "left",
          "xref": "x",
          "y": 1,
          "yref": "y"
         },
         {
          "align": "left",
          "font": {
           "color": "#ffffff"
          },
          "showarrow": false,
          "text": "<b>UserPctofTotalVol</b>",
          "x": -0.45,
          "xanchor": "left",
          "xref": "x",
          "y": 2,
          "yref": "y"
         },
         {
          "align": "left",
          "font": {
           "color": "#000000"
          },
          "showarrow": false,
          "text": "349",
          "x": 0.55,
          "xanchor": "left",
          "xref": "x",
          "y": 2,
          "yref": "y"
         },
         {
          "align": "left",
          "font": {
           "color": "#000000"
          },
          "showarrow": false,
          "text": "348",
          "x": 1.55,
          "xanchor": "left",
          "xref": "x",
          "y": 2,
          "yref": "y"
         },
         {
          "align": "left",
          "font": {
           "color": "#000000"
          },
          "showarrow": false,
          "text": "12.3224%",
          "x": 2.55,
          "xanchor": "left",
          "xref": "x",
          "y": 2,
          "yref": "y"
         },
         {
          "align": "left",
          "font": {
           "color": "#000000"
          },
          "showarrow": false,
          "text": "2",
          "x": 3.55,
          "xanchor": "left",
          "xref": "x",
          "y": 2,
          "yref": "y"
         },
         {
          "align": "left",
          "font": {
           "color": "#ffffff"
          },
          "showarrow": false,
          "text": "<b>FirstHR_Usr_per_1SThR_Tot</b>",
          "x": -0.45,
          "xanchor": "left",
          "xref": "x",
          "y": 3,
          "yref": "y"
         },
         {
          "align": "left",
          "font": {
           "color": "#000000"
          },
          "showarrow": false,
          "text": "349",
          "x": 0.55,
          "xanchor": "left",
          "xref": "x",
          "y": 3,
          "yref": "y"
         },
         {
          "align": "left",
          "font": {
           "color": "#000000"
          },
          "showarrow": false,
          "text": "306",
          "x": 1.55,
          "xanchor": "left",
          "xref": "x",
          "y": 3,
          "yref": "y"
         },
         {
          "align": "left",
          "font": {
           "color": "#000000"
          },
          "showarrow": false,
          "text": "0.0000%",
          "x": 2.55,
          "xanchor": "left",
          "xref": "x",
          "y": 3,
          "yref": "y"
         },
         {
          "align": "left",
          "font": {
           "color": "#000000"
          },
          "showarrow": false,
          "text": "13",
          "x": 3.55,
          "xanchor": "left",
          "xref": "x",
          "y": 3,
          "yref": "y"
         },
         {
          "align": "left",
          "font": {
           "color": "#ffffff"
          },
          "showarrow": false,
          "text": "<b>lastHUsr_per_LASTHRTot</b>",
          "x": -0.45,
          "xanchor": "left",
          "xref": "x",
          "y": 4,
          "yref": "y"
         },
         {
          "align": "left",
          "font": {
           "color": "#000000"
          },
          "showarrow": false,
          "text": "349",
          "x": 0.55,
          "xanchor": "left",
          "xref": "x",
          "y": 4,
          "yref": "y"
         },
         {
          "align": "left",
          "font": {
           "color": "#000000"
          },
          "showarrow": false,
          "text": "333",
          "x": 1.55,
          "xanchor": "left",
          "xref": "x",
          "y": 4,
          "yref": "y"
         },
         {
          "align": "left",
          "font": {
           "color": "#000000"
          },
          "showarrow": false,
          "text": "0.0000%",
          "x": 2.55,
          "xanchor": "left",
          "xref": "x",
          "y": 4,
          "yref": "y"
         },
         {
          "align": "left",
          "font": {
           "color": "#000000"
          },
          "showarrow": false,
          "text": "13",
          "x": 3.55,
          "xanchor": "left",
          "xref": "x",
          "y": 4,
          "yref": "y"
         },
         {
          "align": "left",
          "font": {
           "color": "#ffffff"
          },
          "showarrow": false,
          "text": "<b>Qualify</b>",
          "x": -0.45,
          "xanchor": "left",
          "xref": "x",
          "y": 5,
          "yref": "y"
         },
         {
          "align": "left",
          "font": {
           "color": "#000000"
          },
          "showarrow": false,
          "text": "348",
          "x": 0.55,
          "xanchor": "left",
          "xref": "x",
          "y": 5,
          "yref": "y"
         },
         {
          "align": "left",
          "font": {
           "color": "#000000"
          },
          "showarrow": false,
          "text": "8",
          "x": 1.55,
          "xanchor": "left",
          "xref": "x",
          "y": 5,
          "yref": "y"
         },
         {
          "align": "left",
          "font": {
           "color": "#000000"
          },
          "showarrow": false,
          "text": "T",
          "x": 2.55,
          "xanchor": "left",
          "xref": "x",
          "y": 5,
          "yref": "y"
         },
         {
          "align": "left",
          "font": {
           "color": "#000000"
          },
          "showarrow": false,
          "text": "111",
          "x": 3.55,
          "xanchor": "left",
          "xref": "x",
          "y": 5,
          "yref": "y"
         },
         {
          "align": "left",
          "font": {
           "color": "#ffffff"
          },
          "showarrow": false,
          "text": "<b>Desk</b>",
          "x": -0.45,
          "xanchor": "left",
          "xref": "x",
          "y": 6,
          "yref": "y"
         },
         {
          "align": "left",
          "font": {
           "color": "#000000"
          },
          "showarrow": false,
          "text": "349",
          "x": 0.55,
          "xanchor": "left",
          "xref": "x",
          "y": 6,
          "yref": "y"
         },
         {
          "align": "left",
          "font": {
           "color": "#000000"
          },
          "showarrow": false,
          "text": "10",
          "x": 1.55,
          "xanchor": "left",
          "xref": "x",
          "y": 6,
          "yref": "y"
         },
         {
          "align": "left",
          "font": {
           "color": "#000000"
          },
          "showarrow": false,
          "text": "S6",
          "x": 2.55,
          "xanchor": "left",
          "xref": "x",
          "y": 6,
          "yref": "y"
         },
         {
          "align": "left",
          "font": {
           "color": "#000000"
          },
          "showarrow": false,
          "text": "51",
          "x": 3.55,
          "xanchor": "left",
          "xref": "x",
          "y": 6,
          "yref": "y"
         },
         {
          "align": "left",
          "font": {
           "color": "#ffffff"
          },
          "showarrow": false,
          "text": "<b>TraderID</b>",
          "x": -0.45,
          "xanchor": "left",
          "xref": "x",
          "y": 7,
          "yref": "y"
         },
         {
          "align": "left",
          "font": {
           "color": "#000000"
          },
          "showarrow": false,
          "text": "349",
          "x": 0.55,
          "xanchor": "left",
          "xref": "x",
          "y": 7,
          "yref": "y"
         },
         {
          "align": "left",
          "font": {
           "color": "#000000"
          },
          "showarrow": false,
          "text": "236",
          "x": 1.55,
          "xanchor": "left",
          "xref": "x",
          "y": 7,
          "yref": "y"
         },
         {
          "align": "left",
          "font": {
           "color": "#000000"
          },
          "showarrow": false,
          "text": "C10a1",
          "x": 2.55,
          "xanchor": "left",
          "xref": "x",
          "y": 7,
          "yref": "y"
         },
         {
          "align": "left",
          "font": {
           "color": "#000000"
          },
          "showarrow": false,
          "text": "5",
          "x": 3.55,
          "xanchor": "left",
          "xref": "x",
          "y": 7,
          "yref": "y"
         }
        ],
        "height": 290,
        "margin": {
         "b": 0,
         "l": 0,
         "r": 0,
         "t": 0
        },
        "xaxis": {
         "dtick": 1,
         "gridwidth": 2,
         "showticklabels": false,
         "tick0": -0.5,
         "ticks": "",
         "zeroline": false
        },
        "yaxis": {
         "autorange": "reversed",
         "dtick": 1,
         "gridwidth": 2,
         "showticklabels": false,
         "tick0": 0.5,
         "ticks": "",
         "zeroline": false
        }
       }
      },
      "text/html": [
       "<div>\n",
       "        \n",
       "        \n",
       "            <div id=\"74f20dcf-755d-4cd5-915d-c61685d81784\" class=\"plotly-graph-div\" style=\"height:290px; width:100%;\"></div>\n",
       "            <script type=\"text/javascript\">\n",
       "                require([\"plotly\"], function(Plotly) {\n",
       "                    window.PLOTLYENV=window.PLOTLYENV || {};\n",
       "                    window.PLOTLYENV.BASE_URL='https://plot.ly';\n",
       "                    \n",
       "                if (document.getElementById(\"74f20dcf-755d-4cd5-915d-c61685d81784\")) {\n",
       "                    Plotly.newPlot(\n",
       "                        '74f20dcf-755d-4cd5-915d-c61685d81784',\n",
       "                        [{\"colorscale\": [[0, \"#00083e\"], [0.5, \"#ededee\"], [1, \"#ffffff\"]], \"hoverinfo\": \"none\", \"opacity\": 0.75, \"showscale\": false, \"type\": \"heatmap\", \"uid\": \"1d11301f-c0a8-4371-b022-81cd267f0835\", \"z\": [[0, 0, 0, 0, 0], [0, 0.5, 0.5, 0.5, 0.5], [0, 1, 1, 1, 1], [0, 0.5, 0.5, 0.5, 0.5], [0, 1, 1, 1, 1], [0, 0.5, 0.5, 0.5, 0.5], [0, 1, 1, 1, 1], [0, 0.5, 0.5, 0.5, 0.5]]}],\n",
       "                        {\"annotations\": [{\"align\": \"left\", \"font\": {\"color\": \"#ffffff\"}, \"showarrow\": false, \"text\": \"<b>Categorical columns</b>\", \"x\": -0.45, \"xanchor\": \"left\", \"xref\": \"x\", \"y\": 0, \"yref\": \"y\"}, {\"align\": \"left\", \"font\": {\"color\": \"#ffffff\"}, \"showarrow\": false, \"text\": \"<b>count</b>\", \"x\": 0.55, \"xanchor\": \"left\", \"xref\": \"x\", \"y\": 0, \"yref\": \"y\"}, {\"align\": \"left\", \"font\": {\"color\": \"#ffffff\"}, \"showarrow\": false, \"text\": \"<b>unique</b>\", \"x\": 1.55, \"xanchor\": \"left\", \"xref\": \"x\", \"y\": 0, \"yref\": \"y\"}, {\"align\": \"left\", \"font\": {\"color\": \"#ffffff\"}, \"showarrow\": false, \"text\": \"<b>top</b>\", \"x\": 2.55, \"xanchor\": \"left\", \"xref\": \"x\", \"y\": 0, \"yref\": \"y\"}, {\"align\": \"left\", \"font\": {\"color\": \"#ffffff\"}, \"showarrow\": false, \"text\": \"<b>freq</b>\", \"x\": 3.55, \"xanchor\": \"left\", \"xref\": \"x\", \"y\": 0, \"yref\": \"y\"}, {\"align\": \"left\", \"font\": {\"color\": \"#ffffff\"}, \"showarrow\": false, \"text\": \"<b>ID</b>\", \"x\": -0.45, \"xanchor\": \"left\", \"xref\": \"x\", \"y\": 1, \"yref\": \"y\"}, {\"align\": \"left\", \"font\": {\"color\": \"#000000\"}, \"showarrow\": false, \"text\": \"349\", \"x\": 0.55, \"xanchor\": \"left\", \"xref\": \"x\", \"y\": 1, \"yref\": \"y\"}, {\"align\": \"left\", \"font\": {\"color\": \"#000000\"}, \"showarrow\": false, \"text\": \"349\", \"x\": 1.55, \"xanchor\": \"left\", \"xref\": \"x\", \"y\": 1, \"yref\": \"y\"}, {\"align\": \"left\", \"font\": {\"color\": \"#000000\"}, \"showarrow\": false, \"text\": \"S6C1b14\", \"x\": 2.55, \"xanchor\": \"left\", \"xref\": \"x\", \"y\": 1, \"yref\": \"y\"}, {\"align\": \"left\", \"font\": {\"color\": \"#000000\"}, \"showarrow\": false, \"text\": \"1\", \"x\": 3.55, \"xanchor\": \"left\", \"xref\": \"x\", \"y\": 1, \"yref\": \"y\"}, {\"align\": \"left\", \"font\": {\"color\": \"#ffffff\"}, \"showarrow\": false, \"text\": \"<b>UserPctofTotalVol</b>\", \"x\": -0.45, \"xanchor\": \"left\", \"xref\": \"x\", \"y\": 2, \"yref\": \"y\"}, {\"align\": \"left\", \"font\": {\"color\": \"#000000\"}, \"showarrow\": false, \"text\": \"349\", \"x\": 0.55, \"xanchor\": \"left\", \"xref\": \"x\", \"y\": 2, \"yref\": \"y\"}, {\"align\": \"left\", \"font\": {\"color\": \"#000000\"}, \"showarrow\": false, \"text\": \"348\", \"x\": 1.55, \"xanchor\": \"left\", \"xref\": \"x\", \"y\": 2, \"yref\": \"y\"}, {\"align\": \"left\", \"font\": {\"color\": \"#000000\"}, \"showarrow\": false, \"text\": \"12.3224%\", \"x\": 2.55, \"xanchor\": \"left\", \"xref\": \"x\", \"y\": 2, \"yref\": \"y\"}, {\"align\": \"left\", \"font\": {\"color\": \"#000000\"}, \"showarrow\": false, \"text\": \"2\", \"x\": 3.55, \"xanchor\": \"left\", \"xref\": \"x\", \"y\": 2, \"yref\": \"y\"}, {\"align\": \"left\", \"font\": {\"color\": \"#ffffff\"}, \"showarrow\": false, \"text\": \"<b>FirstHR_Usr_per_1SThR_Tot</b>\", \"x\": -0.45, \"xanchor\": \"left\", \"xref\": \"x\", \"y\": 3, \"yref\": \"y\"}, {\"align\": \"left\", \"font\": {\"color\": \"#000000\"}, \"showarrow\": false, \"text\": \"349\", \"x\": 0.55, \"xanchor\": \"left\", \"xref\": \"x\", \"y\": 3, \"yref\": \"y\"}, {\"align\": \"left\", \"font\": {\"color\": \"#000000\"}, \"showarrow\": false, \"text\": \"306\", \"x\": 1.55, \"xanchor\": \"left\", \"xref\": \"x\", \"y\": 3, \"yref\": \"y\"}, {\"align\": \"left\", \"font\": {\"color\": \"#000000\"}, \"showarrow\": false, \"text\": \"0.0000%\", \"x\": 2.55, \"xanchor\": \"left\", \"xref\": \"x\", \"y\": 3, \"yref\": \"y\"}, {\"align\": \"left\", \"font\": {\"color\": \"#000000\"}, \"showarrow\": false, \"text\": \"13\", \"x\": 3.55, \"xanchor\": \"left\", \"xref\": \"x\", \"y\": 3, \"yref\": \"y\"}, {\"align\": \"left\", \"font\": {\"color\": \"#ffffff\"}, \"showarrow\": false, \"text\": \"<b>lastHUsr_per_LASTHRTot</b>\", \"x\": -0.45, \"xanchor\": \"left\", \"xref\": \"x\", \"y\": 4, \"yref\": \"y\"}, {\"align\": \"left\", \"font\": {\"color\": \"#000000\"}, \"showarrow\": false, \"text\": \"349\", \"x\": 0.55, \"xanchor\": \"left\", \"xref\": \"x\", \"y\": 4, \"yref\": \"y\"}, {\"align\": \"left\", \"font\": {\"color\": \"#000000\"}, \"showarrow\": false, \"text\": \"333\", \"x\": 1.55, \"xanchor\": \"left\", \"xref\": \"x\", \"y\": 4, \"yref\": \"y\"}, {\"align\": \"left\", \"font\": {\"color\": \"#000000\"}, \"showarrow\": false, \"text\": \"0.0000%\", \"x\": 2.55, \"xanchor\": \"left\", \"xref\": \"x\", \"y\": 4, \"yref\": \"y\"}, {\"align\": \"left\", \"font\": {\"color\": \"#000000\"}, \"showarrow\": false, \"text\": \"13\", \"x\": 3.55, \"xanchor\": \"left\", \"xref\": \"x\", \"y\": 4, \"yref\": \"y\"}, {\"align\": \"left\", \"font\": {\"color\": \"#ffffff\"}, \"showarrow\": false, \"text\": \"<b>Qualify</b>\", \"x\": -0.45, \"xanchor\": \"left\", \"xref\": \"x\", \"y\": 5, \"yref\": \"y\"}, {\"align\": \"left\", \"font\": {\"color\": \"#000000\"}, \"showarrow\": false, \"text\": \"348\", \"x\": 0.55, \"xanchor\": \"left\", \"xref\": \"x\", \"y\": 5, \"yref\": \"y\"}, {\"align\": \"left\", \"font\": {\"color\": \"#000000\"}, \"showarrow\": false, \"text\": \"8\", \"x\": 1.55, \"xanchor\": \"left\", \"xref\": \"x\", \"y\": 5, \"yref\": \"y\"}, {\"align\": \"left\", \"font\": {\"color\": \"#000000\"}, \"showarrow\": false, \"text\": \"T\", \"x\": 2.55, \"xanchor\": \"left\", \"xref\": \"x\", \"y\": 5, \"yref\": \"y\"}, {\"align\": \"left\", \"font\": {\"color\": \"#000000\"}, \"showarrow\": false, \"text\": \"111\", \"x\": 3.55, \"xanchor\": \"left\", \"xref\": \"x\", \"y\": 5, \"yref\": \"y\"}, {\"align\": \"left\", \"font\": {\"color\": \"#ffffff\"}, \"showarrow\": false, \"text\": \"<b>Desk</b>\", \"x\": -0.45, \"xanchor\": \"left\", \"xref\": \"x\", \"y\": 6, \"yref\": \"y\"}, {\"align\": \"left\", \"font\": {\"color\": \"#000000\"}, \"showarrow\": false, \"text\": \"349\", \"x\": 0.55, \"xanchor\": \"left\", \"xref\": \"x\", \"y\": 6, \"yref\": \"y\"}, {\"align\": \"left\", \"font\": {\"color\": \"#000000\"}, \"showarrow\": false, \"text\": \"10\", \"x\": 1.55, \"xanchor\": \"left\", \"xref\": \"x\", \"y\": 6, \"yref\": \"y\"}, {\"align\": \"left\", \"font\": {\"color\": \"#000000\"}, \"showarrow\": false, \"text\": \"S6\", \"x\": 2.55, \"xanchor\": \"left\", \"xref\": \"x\", \"y\": 6, \"yref\": \"y\"}, {\"align\": \"left\", \"font\": {\"color\": \"#000000\"}, \"showarrow\": false, \"text\": \"51\", \"x\": 3.55, \"xanchor\": \"left\", \"xref\": \"x\", \"y\": 6, \"yref\": \"y\"}, {\"align\": \"left\", \"font\": {\"color\": \"#ffffff\"}, \"showarrow\": false, \"text\": \"<b>TraderID</b>\", \"x\": -0.45, \"xanchor\": \"left\", \"xref\": \"x\", \"y\": 7, \"yref\": \"y\"}, {\"align\": \"left\", \"font\": {\"color\": \"#000000\"}, \"showarrow\": false, \"text\": \"349\", \"x\": 0.55, \"xanchor\": \"left\", \"xref\": \"x\", \"y\": 7, \"yref\": \"y\"}, {\"align\": \"left\", \"font\": {\"color\": \"#000000\"}, \"showarrow\": false, \"text\": \"236\", \"x\": 1.55, \"xanchor\": \"left\", \"xref\": \"x\", \"y\": 7, \"yref\": \"y\"}, {\"align\": \"left\", \"font\": {\"color\": \"#000000\"}, \"showarrow\": false, \"text\": \"C10a1\", \"x\": 2.55, \"xanchor\": \"left\", \"xref\": \"x\", \"y\": 7, \"yref\": \"y\"}, {\"align\": \"left\", \"font\": {\"color\": \"#000000\"}, \"showarrow\": false, \"text\": \"5\", \"x\": 3.55, \"xanchor\": \"left\", \"xref\": \"x\", \"y\": 7, \"yref\": \"y\"}], \"height\": 290, \"margin\": {\"b\": 0, \"l\": 0, \"r\": 0, \"t\": 0}, \"xaxis\": {\"dtick\": 1, \"gridwidth\": 2, \"showticklabels\": false, \"tick0\": -0.5, \"ticks\": \"\", \"zeroline\": false}, \"yaxis\": {\"autorange\": \"reversed\", \"dtick\": 1, \"gridwidth\": 2, \"showticklabels\": false, \"tick0\": 0.5, \"ticks\": \"\", \"zeroline\": false}},\n",
       "                        {\"showLink\": false, \"linkText\": \"Export to plot.ly\", \"plotlyServerURL\": \"https://plot.ly\", \"responsive\": true}\n",
       "                    ).then(function(){\n",
       "                            \n",
       "var gd = document.getElementById('74f20dcf-755d-4cd5-915d-c61685d81784');\n",
       "var x = new MutationObserver(function (mutations, observer) {{\n",
       "        var display = window.getComputedStyle(gd).display;\n",
       "        if (!display || display === 'none') {{\n",
       "            console.log([gd, 'removed!']);\n",
       "            Plotly.purge(gd);\n",
       "            observer.disconnect();\n",
       "        }}\n",
       "}});\n",
       "\n",
       "// Listen for the removal of the full notebook cells\n",
       "var notebookContainer = gd.closest('#notebook-container');\n",
       "if (notebookContainer) {{\n",
       "    x.observe(notebookContainer, {childList: true});\n",
       "}}\n",
       "\n",
       "// Listen for the clearing of the current output cell\n",
       "var outputEl = gd.closest('.output');\n",
       "if (outputEl) {{\n",
       "    x.observe(outputEl, {childList: true});\n",
       "}}\n",
       "\n",
       "                        })\n",
       "                };\n",
       "                });\n",
       "            </script>\n",
       "        </div>"
      ]
     },
     "metadata": {},
     "output_type": "display_data"
    }
   ],
   "source": [
    "table_cat = ff.create_table(data.describe(include=['O']).T, index=True, index_title='Categorical columns')\n",
    "iplot(table_cat)"
   ]
  },
  {
   "cell_type": "code",
   "execution_count": 15,
   "metadata": {},
   "outputs": [],
   "source": [
    "#print(data.Desk.head(3))\n",
    "#print(data.TraderID.head(3))"
   ]
  },
  {
   "cell_type": "code",
   "execution_count": 55,
   "metadata": {},
   "outputs": [
    {
     "data": {
      "application/vnd.plotly.v1+json": {
       "config": {
        "linkText": "Export to plot.ly",
        "plotlyServerURL": "https://plot.ly",
        "showLink": true
       },
       "data": [
        {
         "histfunc": "count",
         "histnorm": "",
         "marker": {
          "color": "rgba(255, 153, 51, 1.0)",
          "line": {
           "color": "#000000",
           "width": 1.3
          }
         },
         "name": "Desk",
         "nbinsx": 100,
         "opacity": 0.8,
         "orientation": "v",
         "type": "histogram",
         "uid": "0f4ca90a-4627-413e-960c-51a01b3476e0",
         "x": [
          "S9",
          "S9",
          "S9",
          "S9",
          "S9",
          "S9",
          "S9",
          "S9",
          "S9",
          "S9",
          "S7",
          "S7",
          "S7",
          "S7",
          "S7",
          "S7",
          "S7",
          "S7",
          "S7",
          "S7",
          "S7",
          "S7",
          "S7",
          "S7",
          "S7",
          "S7",
          "S6",
          "S6",
          "S6",
          "S6",
          "S6",
          "S6",
          "S6",
          "S6",
          "S6",
          "S6",
          "S6",
          "S6",
          "S6",
          "S6",
          "S6",
          "S5",
          "S5",
          "S5",
          "S5",
          "S5",
          "S5",
          "S5",
          "S5",
          "S5",
          "S5",
          "S4",
          "S4",
          "S4",
          "S4",
          "S4",
          "S4",
          "S4",
          "S4",
          "S4",
          "S3",
          "S3",
          "S3",
          "S3",
          "S3",
          "S3",
          "S3",
          "S3",
          "S3",
          "S3",
          "S3",
          "S3",
          "S3",
          "S2",
          "S2",
          "S2",
          "S2",
          "S2",
          "S2",
          "S2",
          "S2",
          "S2",
          "S2",
          "S2",
          "S1",
          "S1",
          "S1",
          "S1",
          "S10",
          "S10",
          "S10",
          "S10",
          "S10",
          "S10",
          "S10",
          "S10",
          "S10",
          "S10",
          "S10",
          "S10",
          "S10",
          "S10",
          "S10",
          "S3",
          "S3",
          "S3",
          "S6",
          "S5",
          "S3",
          "S2",
          "S9",
          "S9",
          "S9",
          "S9",
          "S9",
          "S9",
          "S9",
          "S9",
          "S9",
          "S9",
          "S9",
          "S9",
          "S9",
          "S9",
          "S9",
          "S9",
          "S9",
          "S9",
          "S9",
          "S8",
          "S8",
          "S8",
          "S8",
          "S8",
          "S8",
          "S8",
          "S8",
          "S8",
          "S8",
          "S8",
          "S8",
          "S7",
          "S7",
          "S7",
          "S7",
          "S7",
          "S7",
          "S7",
          "S7",
          "S7",
          "S7",
          "S7",
          "S7",
          "S7",
          "S7",
          "S7",
          "S7",
          "S7",
          "S7",
          "S7",
          "S7",
          "S7",
          "S7",
          "S7",
          "S7",
          "S7",
          "S7",
          "S7",
          "S7",
          "S7",
          "S7",
          "S6",
          "S6",
          "S6",
          "S6",
          "S6",
          "S6",
          "S6",
          "S6",
          "S6",
          "S6",
          "S6",
          "S6",
          "S6",
          "S6",
          "S6",
          "S6",
          "S6",
          "S6",
          "S6",
          "S6",
          "S6",
          "S6",
          "S6",
          "S6",
          "S6",
          "S6",
          "S6",
          "S6",
          "S6",
          "S6",
          "S6",
          "S6",
          "S6",
          "S6",
          "S5",
          "S5",
          "S5",
          "S5",
          "S5",
          "S5",
          "S5",
          "S5",
          "S5",
          "S5",
          "S5",
          "S5",
          "S5",
          "S5",
          "S5",
          "S5",
          "S5",
          "S5",
          "S5",
          "S5",
          "S5",
          "S5",
          "S5",
          "S5",
          "S5",
          "S5",
          "S5",
          "S5",
          "S5",
          "S5",
          "S5",
          "S5",
          "S5",
          "S4",
          "S4",
          "S4",
          "S4",
          "S4",
          "S4",
          "S4",
          "S4",
          "S4",
          "S4",
          "S4",
          "S4",
          "S4",
          "S4",
          "S4",
          "S4",
          "S4",
          "S4",
          "S4",
          "S4",
          "S4",
          "S4",
          "S4",
          "S4",
          "S4",
          "S4",
          "S4",
          "S3",
          "S3",
          "S3",
          "S3",
          "S3",
          "S3",
          "S3",
          "S3",
          "S3",
          "S3",
          "S3",
          "S3",
          "S3",
          "S3",
          "S3",
          "S3",
          "S3",
          "S3",
          "S3",
          "S3",
          "S3",
          "S3",
          "S3",
          "S3",
          "S3",
          "S3",
          "S3",
          "S3",
          "S3",
          "S3",
          "S3",
          "S3",
          "S3",
          "S2",
          "S1",
          "S1",
          "S1",
          "S1",
          "S1",
          "S1",
          "S1",
          "S1",
          "S1",
          "S1",
          "S10",
          "S10",
          "S10",
          "S10",
          "S10",
          "S10",
          "S10",
          "S10",
          "S10",
          "S10",
          "S10",
          "S10",
          "S10",
          "S10",
          "S10",
          "S10",
          "S10",
          "S10",
          "S10",
          "S10",
          "S10",
          "S10",
          "S10",
          "S10",
          "S10",
          "S10",
          "S10",
          "S10",
          "S10",
          "S10",
          "S10",
          "S10",
          "S10"
         ]
        }
       ],
       "layout": {
        "barmode": "overlay",
        "legend": {
         "bgcolor": "#F5F6F9",
         "font": {
          "color": "#4D5663"
         }
        },
        "paper_bgcolor": "#F5F6F9",
        "plot_bgcolor": "#F5F6F9",
        "title": {
         "font": {
          "color": "#4D5663"
         },
         "text": "Number of participant in each Desk"
        },
        "xaxis": {
         "gridcolor": "#E1E5ED",
         "linecolor": "black",
         "showgrid": true,
         "tickfont": {
          "color": "#4D5663"
         },
         "title": {
          "font": {
           "color": "#4D5663"
          },
          "text": "Groups"
         },
         "zerolinecolor": "#E1E5ED"
        },
        "yaxis": {
         "gridcolor": "#E1E5ED",
         "linecolor": "black",
         "showgrid": true,
         "tickfont": {
          "color": "#4D5663"
         },
         "title": {
          "font": {
           "color": "#4D5663"
          },
          "text": "count"
         },
         "zerolinecolor": "#E1E5ED"
        }
       }
      },
      "text/html": [
       "<div>\n",
       "        \n",
       "        \n",
       "            <div id=\"8cf5764e-4c4b-4407-8a87-46d9ad223064\" class=\"plotly-graph-div\" style=\"height:525px; width:100%;\"></div>\n",
       "            <script type=\"text/javascript\">\n",
       "                require([\"plotly\"], function(Plotly) {\n",
       "                    window.PLOTLYENV=window.PLOTLYENV || {};\n",
       "                    window.PLOTLYENV.BASE_URL='https://plot.ly';\n",
       "                    \n",
       "                if (document.getElementById(\"8cf5764e-4c4b-4407-8a87-46d9ad223064\")) {\n",
       "                    Plotly.newPlot(\n",
       "                        '8cf5764e-4c4b-4407-8a87-46d9ad223064',\n",
       "                        [{\"histfunc\": \"count\", \"histnorm\": \"\", \"marker\": {\"color\": \"rgba(255, 153, 51, 1.0)\", \"line\": {\"color\": \"#000000\", \"width\": 1.3}}, \"name\": \"Desk\", \"nbinsx\": 100, \"opacity\": 0.8, \"orientation\": \"v\", \"type\": \"histogram\", \"uid\": \"0f4ca90a-4627-413e-960c-51a01b3476e0\", \"x\": [\"S9\", \"S9\", \"S9\", \"S9\", \"S9\", \"S9\", \"S9\", \"S9\", \"S9\", \"S9\", \"S7\", \"S7\", \"S7\", \"S7\", \"S7\", \"S7\", \"S7\", \"S7\", \"S7\", \"S7\", \"S7\", \"S7\", \"S7\", \"S7\", \"S7\", \"S7\", \"S6\", \"S6\", \"S6\", \"S6\", \"S6\", \"S6\", \"S6\", \"S6\", \"S6\", \"S6\", \"S6\", \"S6\", \"S6\", \"S6\", \"S6\", \"S5\", \"S5\", \"S5\", \"S5\", \"S5\", \"S5\", \"S5\", \"S5\", \"S5\", \"S5\", \"S4\", \"S4\", \"S4\", \"S4\", \"S4\", \"S4\", \"S4\", \"S4\", \"S4\", \"S3\", \"S3\", \"S3\", \"S3\", \"S3\", \"S3\", \"S3\", \"S3\", \"S3\", \"S3\", \"S3\", \"S3\", \"S3\", \"S2\", \"S2\", \"S2\", \"S2\", \"S2\", \"S2\", \"S2\", \"S2\", \"S2\", \"S2\", \"S2\", \"S1\", \"S1\", \"S1\", \"S1\", \"S10\", \"S10\", \"S10\", \"S10\", \"S10\", \"S10\", \"S10\", \"S10\", \"S10\", \"S10\", \"S10\", \"S10\", \"S10\", \"S10\", \"S10\", \"S3\", \"S3\", \"S3\", \"S6\", \"S5\", \"S3\", \"S2\", \"S9\", \"S9\", \"S9\", \"S9\", \"S9\", \"S9\", \"S9\", \"S9\", \"S9\", \"S9\", \"S9\", \"S9\", \"S9\", \"S9\", \"S9\", \"S9\", \"S9\", \"S9\", \"S9\", \"S8\", \"S8\", \"S8\", \"S8\", \"S8\", \"S8\", \"S8\", \"S8\", \"S8\", \"S8\", \"S8\", \"S8\", \"S7\", \"S7\", \"S7\", \"S7\", \"S7\", \"S7\", \"S7\", \"S7\", \"S7\", \"S7\", \"S7\", \"S7\", \"S7\", \"S7\", \"S7\", \"S7\", \"S7\", \"S7\", \"S7\", \"S7\", \"S7\", \"S7\", \"S7\", \"S7\", \"S7\", \"S7\", \"S7\", \"S7\", \"S7\", \"S7\", \"S6\", \"S6\", \"S6\", \"S6\", \"S6\", \"S6\", \"S6\", \"S6\", \"S6\", \"S6\", \"S6\", \"S6\", \"S6\", \"S6\", \"S6\", \"S6\", \"S6\", \"S6\", \"S6\", \"S6\", \"S6\", \"S6\", \"S6\", \"S6\", \"S6\", \"S6\", \"S6\", \"S6\", \"S6\", \"S6\", \"S6\", \"S6\", \"S6\", \"S6\", \"S5\", \"S5\", \"S5\", \"S5\", \"S5\", \"S5\", \"S5\", \"S5\", \"S5\", \"S5\", \"S5\", \"S5\", \"S5\", \"S5\", \"S5\", \"S5\", \"S5\", \"S5\", \"S5\", \"S5\", \"S5\", \"S5\", \"S5\", \"S5\", \"S5\", \"S5\", \"S5\", \"S5\", \"S5\", \"S5\", \"S5\", \"S5\", \"S5\", \"S4\", \"S4\", \"S4\", \"S4\", \"S4\", \"S4\", \"S4\", \"S4\", \"S4\", \"S4\", \"S4\", \"S4\", \"S4\", \"S4\", \"S4\", \"S4\", \"S4\", \"S4\", \"S4\", \"S4\", \"S4\", \"S4\", \"S4\", \"S4\", \"S4\", \"S4\", \"S4\", \"S3\", \"S3\", \"S3\", \"S3\", \"S3\", \"S3\", \"S3\", \"S3\", \"S3\", \"S3\", \"S3\", \"S3\", \"S3\", \"S3\", \"S3\", \"S3\", \"S3\", \"S3\", \"S3\", \"S3\", \"S3\", \"S3\", \"S3\", \"S3\", \"S3\", \"S3\", \"S3\", \"S3\", \"S3\", \"S3\", \"S3\", \"S3\", \"S3\", \"S2\", \"S1\", \"S1\", \"S1\", \"S1\", \"S1\", \"S1\", \"S1\", \"S1\", \"S1\", \"S1\", \"S10\", \"S10\", \"S10\", \"S10\", \"S10\", \"S10\", \"S10\", \"S10\", \"S10\", \"S10\", \"S10\", \"S10\", \"S10\", \"S10\", \"S10\", \"S10\", \"S10\", \"S10\", \"S10\", \"S10\", \"S10\", \"S10\", \"S10\", \"S10\", \"S10\", \"S10\", \"S10\", \"S10\", \"S10\", \"S10\", \"S10\", \"S10\", \"S10\"]}],\n",
       "                        {\"barmode\": \"overlay\", \"legend\": {\"bgcolor\": \"#F5F6F9\", \"font\": {\"color\": \"#4D5663\"}}, \"paper_bgcolor\": \"#F5F6F9\", \"plot_bgcolor\": \"#F5F6F9\", \"title\": {\"font\": {\"color\": \"#4D5663\"}, \"text\": \"Number of participant in each Desk\"}, \"xaxis\": {\"gridcolor\": \"#E1E5ED\", \"linecolor\": \"black\", \"showgrid\": true, \"tickfont\": {\"color\": \"#4D5663\"}, \"title\": {\"font\": {\"color\": \"#4D5663\"}, \"text\": \"Groups\"}, \"zerolinecolor\": \"#E1E5ED\"}, \"yaxis\": {\"gridcolor\": \"#E1E5ED\", \"linecolor\": \"black\", \"showgrid\": true, \"tickfont\": {\"color\": \"#4D5663\"}, \"title\": {\"font\": {\"color\": \"#4D5663\"}, \"text\": \"count\"}, \"zerolinecolor\": \"#E1E5ED\"}},\n",
       "                        {\"showLink\": true, \"linkText\": \"Export to plot.ly\", \"plotlyServerURL\": \"https://plot.ly\", \"responsive\": true}\n",
       "                    ).then(function(){\n",
       "                            \n",
       "var gd = document.getElementById('8cf5764e-4c4b-4407-8a87-46d9ad223064');\n",
       "var x = new MutationObserver(function (mutations, observer) {{\n",
       "        var display = window.getComputedStyle(gd).display;\n",
       "        if (!display || display === 'none') {{\n",
       "            console.log([gd, 'removed!']);\n",
       "            Plotly.purge(gd);\n",
       "            observer.disconnect();\n",
       "        }}\n",
       "}});\n",
       "\n",
       "// Listen for the removal of the full notebook cells\n",
       "var notebookContainer = gd.closest('#notebook-container');\n",
       "if (notebookContainer) {{\n",
       "    x.observe(notebookContainer, {childList: true});\n",
       "}}\n",
       "\n",
       "// Listen for the clearing of the current output cell\n",
       "var outputEl = gd.closest('.output');\n",
       "if (outputEl) {{\n",
       "    x.observe(outputEl, {childList: true});\n",
       "}}\n",
       "\n",
       "                        })\n",
       "                };\n",
       "                });\n",
       "            </script>\n",
       "        </div>"
      ]
     },
     "metadata": {},
     "output_type": "display_data"
    }
   ],
   "source": [
    "data['Desk'].iplot(\n",
    "    kind='hist',\n",
    "    bins=100,\n",
    "    xTitle='Groups',\n",
    "    linecolor='black',\n",
    "    yTitle='count',\n",
    "    title='Number of participant in each Desk')"
   ]
  },
  {
   "cell_type": "code",
   "execution_count": 17,
   "metadata": {},
   "outputs": [
    {
     "data": {
      "text/html": [
       "        <script type=\"text/javascript\">\n",
       "        window.PlotlyConfig = {MathJaxConfig: 'local'};\n",
       "        if (window.MathJax) {MathJax.Hub.Config({SVG: {font: \"STIX-Web\"}});}\n",
       "        if (typeof require !== 'undefined') {\n",
       "        require.undef(\"plotly\");\n",
       "        requirejs.config({\n",
       "            paths: {\n",
       "                'plotly': ['https://cdn.plot.ly/plotly-latest.min']\n",
       "            }\n",
       "        });\n",
       "        require(['plotly'], function(Plotly) {\n",
       "            window._Plotly = Plotly;\n",
       "        });\n",
       "        }\n",
       "        </script>\n",
       "        "
      ]
     },
     "metadata": {},
     "output_type": "display_data"
    },
    {
     "data": {
      "text/html": [
       "        <script type=\"text/javascript\">\n",
       "        window.PlotlyConfig = {MathJaxConfig: 'local'};\n",
       "        if (window.MathJax) {MathJax.Hub.Config({SVG: {font: \"STIX-Web\"}});}\n",
       "        if (typeof require !== 'undefined') {\n",
       "        require.undef(\"plotly\");\n",
       "        requirejs.config({\n",
       "            paths: {\n",
       "                'plotly': ['https://cdn.plot.ly/plotly-latest.min']\n",
       "            }\n",
       "        });\n",
       "        require(['plotly'], function(Plotly) {\n",
       "            window._Plotly = Plotly;\n",
       "        });\n",
       "        }\n",
       "        </script>\n",
       "        "
      ]
     },
     "metadata": {},
     "output_type": "display_data"
    },
    {
     "data": {
      "text/html": [
       "        <script type=\"text/javascript\">\n",
       "        window.PlotlyConfig = {MathJaxConfig: 'local'};\n",
       "        if (window.MathJax) {MathJax.Hub.Config({SVG: {font: \"STIX-Web\"}});}\n",
       "        if (typeof require !== 'undefined') {\n",
       "        require.undef(\"plotly\");\n",
       "        requirejs.config({\n",
       "            paths: {\n",
       "                'plotly': ['https://cdn.plot.ly/plotly-latest.min']\n",
       "            }\n",
       "        });\n",
       "        require(['plotly'], function(Plotly) {\n",
       "            window._Plotly = Plotly;\n",
       "        });\n",
       "        }\n",
       "        </script>\n",
       "        "
      ]
     },
     "metadata": {},
     "output_type": "display_data"
    }
   ],
   "source": [
    "import pandas as pd\n",
    "from plotly import __version__\n",
    "%matplotlib inline\n",
    "\n",
    "import plotly.offline as pyo\n",
    "import plotly.graph_objs as go\n",
    "from plotly.offline import iplot\n",
    "\n",
    "import cufflinks as cf\n",
    "from plotly.offline import download_plotlyjs, init_notebook_mode, plot, iplot \n",
    "init_notebook_mode(connected=True)\n",
    "\n",
    "init_notebook_mode(connected=True)\n",
    "cf.go_offline()"
   ]
  },
  {
   "cell_type": "code",
   "execution_count": 18,
   "metadata": {
    "scrolled": true
   },
   "outputs": [
    {
     "data": {
      "text/html": [
       "<div>\n",
       "<style scoped>\n",
       "    .dataframe tbody tr th:only-of-type {\n",
       "        vertical-align: middle;\n",
       "    }\n",
       "\n",
       "    .dataframe tbody tr th {\n",
       "        vertical-align: top;\n",
       "    }\n",
       "\n",
       "    .dataframe thead th {\n",
       "        text-align: right;\n",
       "    }\n",
       "</style>\n",
       "<table border=\"1\" class=\"dataframe\">\n",
       "  <thead>\n",
       "    <tr style=\"text-align: right;\">\n",
       "      <th></th>\n",
       "      <th>count</th>\n",
       "      <th>unique</th>\n",
       "      <th>top</th>\n",
       "      <th>freq</th>\n",
       "    </tr>\n",
       "    <tr>\n",
       "      <th>Q29</th>\n",
       "      <th></th>\n",
       "      <th></th>\n",
       "      <th></th>\n",
       "      <th></th>\n",
       "    </tr>\n",
       "  </thead>\n",
       "  <tbody>\n",
       "    <tr>\n",
       "      <th>1</th>\n",
       "      <td>10</td>\n",
       "      <td>6</td>\n",
       "      <td>S6</td>\n",
       "      <td>2</td>\n",
       "    </tr>\n",
       "    <tr>\n",
       "      <th>2</th>\n",
       "      <td>53</td>\n",
       "      <td>9</td>\n",
       "      <td>S3</td>\n",
       "      <td>10</td>\n",
       "    </tr>\n",
       "    <tr>\n",
       "      <th>3</th>\n",
       "      <td>80</td>\n",
       "      <td>10</td>\n",
       "      <td>S10</td>\n",
       "      <td>16</td>\n",
       "    </tr>\n",
       "    <tr>\n",
       "      <th>4</th>\n",
       "      <td>143</td>\n",
       "      <td>10</td>\n",
       "      <td>S5</td>\n",
       "      <td>25</td>\n",
       "    </tr>\n",
       "    <tr>\n",
       "      <th>5</th>\n",
       "      <td>63</td>\n",
       "      <td>9</td>\n",
       "      <td>S6</td>\n",
       "      <td>16</td>\n",
       "    </tr>\n",
       "  </tbody>\n",
       "</table>\n",
       "</div>"
      ],
      "text/plain": [
       "    count unique  top freq\n",
       "Q29                       \n",
       "1      10      6   S6    2\n",
       "2      53      9   S3   10\n",
       "3      80     10  S10   16\n",
       "4     143     10   S5   25\n",
       "5      63      9   S6   16"
      ]
     },
     "execution_count": 18,
     "metadata": {},
     "output_type": "execute_result"
    }
   ],
   "source": [
    "df1 = data.groupby('Q29')['Desk']\n",
    "df1.describe()"
   ]
  },
  {
   "cell_type": "code",
   "execution_count": 19,
   "metadata": {},
   "outputs": [
    {
     "data": {
      "text/plain": [
       "4    0.409742\n",
       "3    0.229226\n",
       "5    0.180516\n",
       "2    0.151862\n",
       "1    0.028653\n",
       "Name: Q29, dtype: float64"
      ]
     },
     "execution_count": 19,
     "metadata": {},
     "output_type": "execute_result"
    }
   ],
   "source": [
    "\n",
    "xt = data.Q29.value_counts()\n",
    "xt/xt.sum()\n"
   ]
  },
  {
   "cell_type": "code",
   "execution_count": 20,
   "metadata": {},
   "outputs": [
    {
     "name": "stdout",
     "output_type": "stream",
     "text": [
      "percentage of participant who strongly disagrees with Q29 is 2.865329512893983\n",
      "percentage of participant who disagrees with Q29 is 15.18624641833811\n",
      "percentage of participant who neither disagrees or agrees with Q29 is 22.922636103151863\n",
      "percentage of participant who agrees with Q29 is 40.97421203438395\n",
      "percentage of participant who strongly agrees with Q29 is 18.05157593123209\n"
     ]
    }
   ],
   "source": [
    "#question 29\n",
    "count_strongly_DisA = len(data[data['Q29']==1]) # strongly disagree\n",
    "count_DisA = len(data[data['Q29']==2]) #disagree\n",
    "count_neitherDA = len(data[data['Q29']==3]) #neither agree or disagree\n",
    "count_A = len(data[data['Q29']==4]) # agree\n",
    "count_strongly_A = len(data[data['Q29']==5]) #strongly Agree\n",
    "\n",
    "pct_of_strongly_DisA = count_strongly_DisA/(count_strongly_DisA+count_DisA+count_neitherDA+count_A+count_strongly_A)\n",
    "\n",
    "print(\"percentage of participant who strongly disagrees with Q29 is\", pct_of_strongly_DisA*100)\n",
    "\n",
    "pct_of_Disagree = count_DisA/(count_strongly_DisA+count_DisA+count_neitherDA+count_A+count_strongly_A)\n",
    "\n",
    "print(\"percentage of participant who disagrees with Q29 is\", pct_of_Disagree*100)\n",
    "\n",
    "pct_of_neitherDA = count_neitherDA/(count_strongly_DisA+count_DisA+count_neitherDA+count_A+count_strongly_A)\n",
    "print(\"percentage of participant who neither disagrees or agrees with Q29 is\", pct_of_neitherDA*100)\n",
    "\n",
    "pct_of_Agree = count_A/(count_strongly_DisA+count_DisA+count_neitherDA+count_A+count_strongly_A)\n",
    "print(\"percentage of participant who agrees with Q29 is\", pct_of_Agree*100)\n",
    "\n",
    "pct_of_Strongly_Agree = count_strongly_A/(count_strongly_DisA+count_DisA+count_neitherDA+count_A+count_strongly_A)\n",
    "print(\"percentage of participant who strongly agrees with Q29 is\", pct_of_Strongly_Agree*100)\n"
   ]
  },
  {
   "cell_type": "code",
   "execution_count": 21,
   "metadata": {},
   "outputs": [],
   "source": [
    "ag = data.groupby('Q29').Desk.value_counts().sort_index()"
   ]
  },
  {
   "cell_type": "code",
   "execution_count": 22,
   "metadata": {},
   "outputs": [
    {
     "data": {
      "image/png": "[encoded data removed]",
      "text/plain": [
       "<Figure size 864x576 with 10 Axes>"
      ]
     },
     "metadata": {
      "needs_background": "light"
     },
     "output_type": "display_data"
    }
   ],
   "source": [
    "\n",
    "ag.unstack().plot(kind='bar', subplots=True, layout=(5,2),figsize=(12, 8),legend=None);"
   ]
  },
  {
   "cell_type": "code",
   "execution_count": 23,
   "metadata": {
    "scrolled": true
   },
   "outputs": [
    {
     "name": "stdout",
     "output_type": "stream",
     "text": [
      "Strategy     0     1\n",
      "Desk Q29            \n",
      "S1   3   1.000   NaN\n",
      "     4   0.250 0.750\n",
      "     5   0.400 0.600\n",
      "S10  1     NaN 1.000\n",
      "     2   0.143 0.857\n",
      "     3   0.188 0.812\n",
      "     4   0.176 0.824\n",
      "     5   0.500 0.500\n",
      "S2   1     NaN 1.000\n",
      "     2     NaN 1.000\n",
      "     3   1.000   NaN\n",
      "     4   0.500 0.500\n",
      "S3   1     NaN 1.000\n",
      "     2   0.100 0.900\n",
      "     3   0.333 0.667\n",
      "     4   0.118 0.882\n",
      "     5     NaN 1.000\n",
      "S4   2   0.333 0.667\n",
      "     3     NaN 1.000\n",
      "     4   0.071 0.929\n",
      "     5   0.182 0.818\n",
      "S5   1     NaN 1.000\n",
      "     2   0.250 0.750\n",
      "     3   0.286 0.714\n",
      "     4   0.240 0.760\n",
      "     5   0.500 0.500\n",
      "S6   1   1.000   NaN\n",
      "     2   0.500 0.500\n",
      "     3   0.333 0.667\n",
      "     4   0.267 0.733\n",
      "     5   0.500 0.500\n",
      "S7   1     NaN 1.000\n",
      "     2   0.571 0.429\n",
      "     3   0.333 0.667\n",
      "     4   0.417 0.583\n",
      "     5   0.200 0.800\n",
      "S8   2   1.000   NaN\n",
      "     3   0.500 0.500\n",
      "     4   0.400 0.600\n",
      "     5   1.000   NaN\n",
      "S9   2   0.600 0.400\n",
      "     3   0.200 0.800\n",
      "     4   0.417 0.583\n",
      "     5   0.500 0.500\n"
     ]
    }
   ],
   "source": [
    "df4 = data.groupby([\"Desk\", \"Q29\"])[\"Strategy\"]\n",
    "df4 = df4.value_counts()\n",
    "df4 = df4.unstack()\n",
    "df4 = df4.apply(lambda x: x/x.sum(), axis=1)\n",
    "#print(df4.to_string(float_format=\"%.3f\"))\n",
    "df5 =(df4.to_string(float_format=\"%.3f\"))\n",
    "print(df5)"
   ]
  },
  {
   "cell_type": "code",
   "execution_count": 24,
   "metadata": {},
   "outputs": [
    {
     "data": {
      "text/html": [
       "<div>\n",
       "<style scoped>\n",
       "    .dataframe tbody tr th:only-of-type {\n",
       "        vertical-align: middle;\n",
       "    }\n",
       "\n",
       "    .dataframe tbody tr th {\n",
       "        vertical-align: top;\n",
       "    }\n",
       "\n",
       "    .dataframe thead th {\n",
       "        text-align: right;\n",
       "    }\n",
       "</style>\n",
       "<table border=\"1\" class=\"dataframe\">\n",
       "  <thead>\n",
       "    <tr style=\"text-align: right;\">\n",
       "      <th>Strategy</th>\n",
       "      <th>0</th>\n",
       "      <th>1</th>\n",
       "    </tr>\n",
       "    <tr>\n",
       "      <th>Desk</th>\n",
       "      <th></th>\n",
       "      <th></th>\n",
       "    </tr>\n",
       "  </thead>\n",
       "  <tbody>\n",
       "    <tr>\n",
       "      <th>S1</th>\n",
       "      <td>5</td>\n",
       "      <td>9</td>\n",
       "    </tr>\n",
       "    <tr>\n",
       "      <th>S10</th>\n",
       "      <td>10</td>\n",
       "      <td>38</td>\n",
       "    </tr>\n",
       "    <tr>\n",
       "      <th>S2</th>\n",
       "      <td>6</td>\n",
       "      <td>7</td>\n",
       "    </tr>\n",
       "    <tr>\n",
       "      <th>S3</th>\n",
       "      <td>8</td>\n",
       "      <td>42</td>\n",
       "    </tr>\n",
       "    <tr>\n",
       "      <th>S4</th>\n",
       "      <td>5</td>\n",
       "      <td>31</td>\n",
       "    </tr>\n",
       "    <tr>\n",
       "      <th>S5</th>\n",
       "      <td>14</td>\n",
       "      <td>36</td>\n",
       "    </tr>\n",
       "    <tr>\n",
       "      <th>S6</th>\n",
       "      <td>21</td>\n",
       "      <td>30</td>\n",
       "    </tr>\n",
       "    <tr>\n",
       "      <th>S7</th>\n",
       "      <td>18</td>\n",
       "      <td>28</td>\n",
       "    </tr>\n",
       "    <tr>\n",
       "      <th>S8</th>\n",
       "      <td>8</td>\n",
       "      <td>4</td>\n",
       "    </tr>\n",
       "    <tr>\n",
       "      <th>S9</th>\n",
       "      <td>11</td>\n",
       "      <td>18</td>\n",
       "    </tr>\n",
       "  </tbody>\n",
       "</table>\n",
       "</div>"
      ],
      "text/plain": [
       "Strategy   0   1\n",
       "Desk            \n",
       "S1         5   9\n",
       "S10       10  38\n",
       "S2         6   7\n",
       "S3         8  42\n",
       "S4         5  31\n",
       "S5        14  36\n",
       "S6        21  30\n",
       "S7        18  28\n",
       "S8         8   4\n",
       "S9        11  18"
      ]
     },
     "execution_count": 24,
     "metadata": {},
     "output_type": "execute_result"
    }
   ],
   "source": [
    "#crosstab strategy and data\n",
    "#of the strategy used per desk \n",
    "dfcrosstab = pd.crosstab(data.Strategy, data.Desk)\n",
    "dfcrosstab.T"
   ]
  },
  {
   "cell_type": "code",
   "execution_count": 25,
   "metadata": {
    "scrolled": true
   },
   "outputs": [
    {
     "data": {
      "text/plain": [
       "M    186\n",
       "F    163\n",
       "Name: Gender, dtype: int64"
      ]
     },
     "execution_count": 25,
     "metadata": {},
     "output_type": "execute_result"
    },
    {
     "data": {
      "image/png": "[encoded data removed]",
      "text/plain": [
       "<Figure size 432x288 with 1 Axes>"
      ]
     },
     "metadata": {
      "needs_background": "light"
     },
     "output_type": "display_data"
    },
    {
     "name": "stdout",
     "output_type": "stream",
     "text": [
      "percentage of female participant is 46.70487106017192\n",
      "percentage of male participant is 53.29512893982808\n"
     ]
    }
   ],
   "source": [
    "#getting a count of Males vs Females \n",
    "#without having to groupby \n",
    "gender = data[\"Gender\"].value_counts()\n",
    "gender\n",
    "\n",
    "p= sns.countplot(x='Gender',data=data, palette='hls')\n",
    "plt.show()\n",
    "count_no_sub = len(data[data['Gender']=='F'])\n",
    "count_sub = len(data[data['Gender']=='M'])\n",
    "pct_of_no_sub = count_no_sub/(count_no_sub+count_sub)\n",
    "print(\"percentage of female participant is\", pct_of_no_sub*100)\n",
    "pct_of_sub = count_sub/(count_no_sub+count_sub)\n",
    "print(\"percentage of male participant is\", pct_of_sub*100)"
   ]
  },
  {
   "cell_type": "code",
   "execution_count": 26,
   "metadata": {
    "scrolled": false
   },
   "outputs": [
    {
     "data": {
      "image/png": "[encoded data removed]",
      "text/plain": [
       "<Figure size 864x576 with 1 Axes>"
      ]
     },
     "metadata": {
      "needs_background": "light"
     },
     "output_type": "display_data"
    }
   ],
   "source": [
    "#getting a visual look at the strategy used by Gender\n",
    "p=pd.crosstab(data.Strategy,data.Gender).plot(figsize=(12,8),kind='bar')\n",
    "p=plt.title('Strategy Frequency per Gender')\n",
    "p=plt.xlabel('Gender')\n",
    "p=plt.ylabel('Strategy Frequency')\n",
    "#plt.savefig('Strategy_Gender')"
   ]
  },
  {
   "cell_type": "code",
   "execution_count": 27,
   "metadata": {},
   "outputs": [
    {
     "data": {
      "image/png": "[encoded data removed]",
      "text/plain": [
       "<Figure size 864x576 with 1 Axes>"
      ]
     },
     "metadata": {
      "needs_background": "light"
     },
     "output_type": "display_data"
    }
   ],
   "source": [
    "p=pd.crosstab(data.Desk,data.Gender).plot(figsize=(12,8),kind='bar')\n",
    "p=plt.title('Number of Female and Male per Desk')\n",
    "p=plt.xlabel('Desk')\n",
    "p=plt.ylabel('Frequency of Male and Female per Desk')\n",
    "#plt.savefig('Gender_Desk')"
   ]
  },
  {
   "cell_type": "code",
   "execution_count": 28,
   "metadata": {
    "scrolled": true
   },
   "outputs": [
    {
     "data": {
      "image/png": "[encoded data removed]",
      "text/plain": [
       "<Figure size 864x576 with 1 Axes>"
      ]
     },
     "metadata": {
      "needs_background": "light"
     },
     "output_type": "display_data"
    }
   ],
   "source": [
    "#plot shows how many times a male or female choose one of the reponses \n",
    "p=pd.crosstab(data.Q29,data.Gender).plot(figsize=(12,8),kind='bar')\n",
    "p=plt.title('Frequency Response for Q29 by Gender ')\n",
    "p=plt.xlabel('Question 29 Responses')\n",
    "p=plt.ylabel('Frequency of Responses')\n",
    "#plt.savefig('Q29_Gender')"
   ]
  },
  {
   "cell_type": "code",
   "execution_count": 29,
   "metadata": {},
   "outputs": [
    {
     "data": {
      "text/plain": [
       "<Figure size 432x288 with 0 Axes>"
      ]
     },
     "metadata": {},
     "output_type": "display_data"
    },
    {
     "data": {
      "image/png": "[encoded data removed]",
      "text/plain": [
       "<Figure size 864x576 with 1 Axes>"
      ]
     },
     "metadata": {
      "needs_background": "light"
     },
     "output_type": "display_data"
    }
   ],
   "source": [
    "p = plt.figure()\n",
    "p = pd.crosstab(data.Desk,data.Q29).plot(figsize=(12,8), kind='bar') \n",
    "p = plt.title(\"Response Freq of Q29 by Desk\")\n",
    "p = plt.xlabel('Desk')\n",
    "p = plt.ylabel('Frequency')\n",
    "#plt.savefig('pur_fre_month_bar')"
   ]
  },
  {
   "cell_type": "code",
   "execution_count": 30,
   "metadata": {
    "scrolled": true
   },
   "outputs": [],
   "source": [
    "#data.groupby('Gender').mean().T"
   ]
  },
  {
   "cell_type": "code",
   "execution_count": 31,
   "metadata": {
    "scrolled": true
   },
   "outputs": [
    {
     "data": {
      "image/png": "[encoded data removed]",
      "text/plain": [
       "<Figure size 360x216 with 1 Axes>"
      ]
     },
     "metadata": {
      "needs_background": "light"
     },
     "output_type": "display_data"
    },
    {
     "data": {
      "image/png": "[encoded data removed]",
      "text/plain": [
       "<Figure size 360x216 with 1 Axes>"
      ]
     },
     "metadata": {
      "needs_background": "light"
     },
     "output_type": "display_data"
    },
    {
     "data": {
      "image/png": "[encoded data removed]",
      "text/plain": [
       "<Figure size 360x216 with 1 Axes>"
      ]
     },
     "metadata": {
      "needs_background": "light"
     },
     "output_type": "display_data"
    }
   ],
   "source": [
    "ct = pd.crosstab(data.Strategy, data.Gender)\n",
    "#print(ct)\n",
    "ct2 = pd.crosstab(data.Desk, data.Gender)\n",
    "#print(ct2)\n",
    "ct3 = pd.crosstab(data.Q29, data.Gender)\n",
    "#print(ct3)\n",
    "\n",
    "p= ct.plot.bar(stacked=True, figsize=(5,3));\n",
    "p= plt.legend(title='Strategy');\n",
    "\n",
    "p= ct2.plot.bar(stacked=True, figsize=(5,3));\n",
    "p= plt.legend(title='Desk');\n",
    "p =ct3.plot.bar(stacked=True, figsize=(5,3));\n",
    "p= plt.legend(title='Question 29');\n",
    "plt.show()"
   ]
  },
  {
   "cell_type": "code",
   "execution_count": 32,
   "metadata": {},
   "outputs": [],
   "source": [
    "#data.columns.values"
   ]
  },
  {
   "cell_type": "code",
   "execution_count": 33,
   "metadata": {},
   "outputs": [],
   "source": [
    "import pandas as pd\n",
    "import numpy as np\n",
    "from sklearn import preprocessing\n",
    "import matplotlib.pyplot as plt \n",
    "plt.rc(\"font\", size=14)\n",
    "from sklearn.linear_model import LogisticRegression\n",
    "from sklearn.model_selection import train_test_split\n",
    "import seaborn as sns\n",
    "sns.set(style=\"white\")\n",
    "sns.set(style=\"whitegrid\", color_codes=True)"
   ]
  },
  {
   "cell_type": "markdown",
   "metadata": {},
   "source": [
    "## Logistic Regression"
   ]
  },
  {
   "cell_type": "markdown",
   "metadata": {},
   "source": [
    "A logistic regression was done using Q29 as the dependent variable. \n",
    "We created a copy of the dataset into a new dataframe called datacopy and began dropping the categorical variables from it.  We also did some additional cleanup removing strings like percent signs from ['FirstHR_Usr_per_1SThR_Tot'] and ['UserPctofTotalVol'] and converting them into data type float. \n"
   ]
  },
  {
   "cell_type": "code",
   "execution_count": 34,
   "metadata": {
    "scrolled": true
   },
   "outputs": [],
   "source": [
    "# creating a copydata for our sample dataset to do a logistic regression\n",
    "datacopy = data\n",
    "#print(datacopy)\n",
    "# dropping null value columns to avoid errors \n",
    "datacopy.dropna(inplace = True) \n",
    "\n",
    "datacopy = datacopy.drop(columns = ['ID','TraderID','lastHUsr_per_LASTHRTot','Qualify','Gender','Desk'])\n",
    "\n",
    "datacopy['UserPctofTotalVol'] = (datacopy['UserPctofTotalVol'].str.strip('%').astype(float))\n",
    "datacopy['FirstHR_Usr_per_1SThR_Tot'] = (datacopy['FirstHR_Usr_per_1SThR_Tot'].str.strip('%').astype(float))\n",
    "#datacopy['lastHUsr_per_LASTHRTot'] = (datacopy['lastHUsr_per_LASTHRTot'].str.strip('%').str.strip('#DIV/0!').astype(int))\n",
    "#print(datacopy.head())\n",
    "  "
   ]
  },
  {
   "cell_type": "markdown",
   "metadata": {},
   "source": [
    "Before the Logistic regression was run, Q29 was modified from the likert scale to binary values. The likert values of 1 and 2 were recoded to 0 and the likert values of 3, 4, and 5 were recoded to 1. "
   ]
  },
  {
   "cell_type": "code",
   "execution_count": 35,
   "metadata": {},
   "outputs": [],
   "source": [
    "datacopy['Q29'] = datacopy['Q29'].map({ 1:0,2:0,3:1,4:1,5:1})"
   ]
  },
  {
   "cell_type": "markdown",
   "metadata": {},
   "source": [
    "### Over-sampling to balance our data\n",
    "Over-sampling using SMOTE With our training data created,\n",
    "Sampling Q29 using the SMOTE algorithm (Synthetic Minority Oversampling Technique). At a high level, SMOTE:\n",
    "Works by creating synthetic samples from Q29 instead of creating copies.\n",
    "Randomly choosing one of the k-nearest-neighbors and using it to create a similar, but randomly tweaked, new observations. Using SMOTE in Python."
   ]
  },
  {
   "cell_type": "code",
   "execution_count": 36,
   "metadata": {
    "scrolled": true
   },
   "outputs": [
    {
     "name": "stdout",
     "output_type": "stream",
     "text": [
      "length of oversampled data is  396\n",
      "number disagree 198\n",
      "Number of agree 198\n",
      "Proportion disagree data in oversampled data is  0.5\n",
      "Proportion of agree data in oversampled data is  0.5\n"
     ]
    }
   ],
   "source": [
    "\n",
    "#datacopy['Q29'] = datacopy['Q29'].map({ 1:0,2:0,3:1,4:1,5:1})\n",
    "X = datacopy.loc[:, datacopy.columns != 'Q29']\n",
    "y = datacopy.loc[:, datacopy.columns == 'Q29']\n",
    "from imblearn.over_sampling import SMOTE\n",
    "#pip install imblearn\n",
    "os = SMOTE(random_state=0)\n",
    "X_train, X_test, y_train, y_test = train_test_split(X, y, test_size=0.3, random_state=0)\n",
    "columns = X_train.columns\n",
    "os_data_X,os_data_y=os.fit_sample(X_train, y_train)\n",
    "os_data_X = pd.DataFrame(data=os_data_X,columns=columns )\n",
    "os_data_y= pd.DataFrame(data=os_data_y,columns=['y'])\n",
    "# we can Check the numbers of our data\n",
    "print(\"length of oversampled data is \",len(os_data_X))\n",
    "\n",
    "print(\"number disagree\",len(os_data_y[os_data_y['y']==0]))\n",
    "\n",
    "print(\"Number of agree\",len(os_data_y[os_data_y['y']==1]))\n",
    "\n",
    "print(\"Proportion disagree data in oversampled data is \",len(os_data_y[os_data_y['y']==0])/len(os_data_X))\n",
    "\n",
    "print(\"Proportion of agree data in oversampled data is \",len(os_data_y[os_data_y['y']==1])/len(os_data_X))\n",
    "\n",
    "\n"
   ]
  },
  {
   "cell_type": "code",
   "execution_count": null,
   "metadata": {},
   "outputs": [],
   "source": []
  },
  {
   "cell_type": "markdown",
   "metadata": {},
   "source": [
    "As you can see from the above output our data is now balanced. You may have noticed that we over-sampled only on the training data, because by oversampling only on the training data, none of the information in the test data is being used to create synthetic observations, therefore, no information will bleed from test data into the model training.\n",
    "### Recursive Feature Elimination\n",
    "Recursive Feature Elimination (RFE) is based on the idea to repeatedly construct a model and choose either the best or worst performing feature, setting the feature aside and then repeating the process with the rest of the features. This process is applied until all features in the dataset are exhausted. The goal of RFE is to select features by recursively considering smaller and smaller sets of features."
   ]
  },
  {
   "cell_type": "code",
   "execution_count": 37,
   "metadata": {},
   "outputs": [
    {
     "name": "stdout",
     "output_type": "stream",
     "text": [
      "[ True False False False False False False False False False False False\n",
      "  True False False False False False False  True False False  True False\n",
      " False  True  True False  True False False  True  True  True  True False\n",
      "  True  True False  True  True  True  True False  True  True  True False\n",
      " False]\n",
      "[ 1 23 21 25 14 17 15 26 27 29 24 13  1 30 19 18 20 16 22  1  4  3  1  7\n",
      "  8  1  1  6  1 10 12  1  1  1  1  9  1  1  5  1  1  1  1  2  1  1  1 11\n",
      " 28]\n"
     ]
    }
   ],
   "source": [
    "data_vars=datacopy.columns.values.tolist()\n",
    "y=['Q29']\n",
    "X=[i for i in data_vars if i not in y]\n",
    "from sklearn.feature_selection import RFE\n",
    "from sklearn.linear_model import LogisticRegression\n",
    "logreg = LogisticRegression()\n",
    "rfe = RFE(logreg, 20)\n",
    "rfe = rfe.fit(os_data_X, os_data_y.values.ravel())\n",
    "print(rfe.support_)\n",
    "print(rfe.ranking_)"
   ]
  },
  {
   "cell_type": "code",
   "execution_count": 38,
   "metadata": {},
   "outputs": [
    {
     "name": "stdout",
     "output_type": "stream",
     "text": [
      "['Price', 'RealizedTot', 'UnRealQ', 'UserVol', 'UserPctofTotalVol', 'TotalVol', 'TradeCount', 'FirstHourVol', 'FirstHourUserVol', 'lastHourVol', 'lastHourUserVol', 'FirstHR_Usr_per_1SThR_Tot', 'VWAP', 'PriceV', 'Net', 'UserBuy', 'UserSell', 'UserVolTradedBuySell', 'Strategy', 'Q4', 'Q5', 'Q1', 'Q2', 'Q3', 'Q6', 'Q7', 'Q8', 'Q9', 'Q10', 'Q11', 'Q12', 'Q13', 'Q14', 'Q15', 'Q16', 'Q17', 'Q18', 'Q19', 'Q20', 'Q21', 'Q22', 'Q23', 'Q24', 'Q26', 'Q27', 'Q45', 'Q28', 'Q47', 'Q29', 'Q30']\n"
     ]
    }
   ],
   "source": [
    "#printing the varibles to match them to True above.\n",
    "print(data_vars)"
   ]
  },
  {
   "cell_type": "markdown",
   "metadata": {},
   "source": [
    "The RFE has helped us select the following varible for our model"
   ]
  },
  {
   "cell_type": "code",
   "execution_count": 39,
   "metadata": {},
   "outputs": [],
   "source": [
    "#Adding the variable from above slect by RFE\n",
    "cols=['Price', 'VWAP','Strategy', 'Q5', 'Q2','Q8','Q11','Q12','Q13','Q14','Q15','Q20','Q23','Q24','Q26','Q27','Q45','Q47'] \n",
    "X=os_data_X[cols]\n",
    "y=os_data_y['y']"
   ]
  },
  {
   "cell_type": "code",
   "execution_count": 40,
   "metadata": {
    "scrolled": false
   },
   "outputs": [
    {
     "name": "stdout",
     "output_type": "stream",
     "text": [
      "Optimization terminated successfully.\n",
      "         Current function value: 0.577802\n",
      "         Iterations 6\n",
      "                         Results: Logit\n",
      "=================================================================\n",
      "Model:              Logit            Pseudo R-squared: 0.166     \n",
      "Dependent Variable: y                AIC:              493.6189  \n",
      "Date:               2019-08-07 16:19 BIC:              565.2843  \n",
      "No. Observations:   396              Log-Likelihood:   -228.81   \n",
      "Df Model:           17               LL-Null:          -274.49   \n",
      "Df Residuals:       378              LLR p-value:      3.4604e-12\n",
      "Converged:          1.0000           Scale:            1.0000    \n",
      "No. Iterations:     6.0000                                       \n",
      "------------------------------------------------------------------\n",
      "               Coef.   Std.Err.     z     P>|z|    [0.025   0.975]\n",
      "------------------------------------------------------------------\n",
      "Price          0.6833    0.4081   1.6742  0.0941  -0.1166   1.4831\n",
      "VWAP          -0.9781    0.4264  -2.2935  0.0218  -1.8139  -0.1422\n",
      "Strategy      -0.2964    0.2938  -1.0090  0.3130  -0.8723   0.2794\n",
      "Q5             0.2426    0.1327   1.8282  0.0675  -0.0175   0.5028\n",
      "Q2            -0.2422    0.1344  -1.8015  0.0716  -0.5056   0.0213\n",
      "Q8             0.5434    0.1647   3.2999  0.0010   0.2207   0.8662\n",
      "Q11            0.0831    0.2092   0.3971  0.6913  -0.3269   0.4931\n",
      "Q12            0.0588    0.1793   0.3280  0.7429  -0.2926   0.4101\n",
      "Q13           -0.2348    0.2108  -1.1137  0.2654  -0.6479   0.1784\n",
      "Q14            0.5098    0.1378   3.7002  0.0002   0.2398   0.7799\n",
      "Q15            0.6150    0.2112   2.9119  0.0036   0.2010   1.0289\n",
      "Q20           -0.0253    0.2209  -0.1144  0.9090  -0.4581   0.4076\n",
      "Q23            0.1924    0.1489   1.2921  0.1963  -0.0995   0.4843\n",
      "Q24           -0.6927    0.2286  -3.0304  0.0024  -1.1407  -0.2447\n",
      "Q26            0.3295    0.1444   2.2824  0.0225   0.0465   0.6124\n",
      "Q27            0.4013    0.2033   1.9740  0.0484   0.0029   0.7998\n",
      "Q45            0.4760    0.2204   2.1598  0.0308   0.0440   0.9080\n",
      "Q47           -0.3289    0.2418  -1.3604  0.1737  -0.8027   0.1449\n",
      "=================================================================\n",
      "\n"
     ]
    }
   ],
   "source": [
    "import statsmodels.api as sm\n",
    "logit_model=sm.Logit(y,X.astype(float))\n",
    "result=logit_model.fit()\n",
    "print(result.summary2())"
   ]
  },
  {
   "cell_type": "code",
   "execution_count": null,
   "metadata": {},
   "outputs": [],
   "source": []
  },
  {
   "cell_type": "code",
   "execution_count": 41,
   "metadata": {
    "scrolled": true
   },
   "outputs": [],
   "source": [
    "# creating a copydata for our sample dataset to do a logistic regression\n",
    "datacopy = data\n",
    "#print(datacopy)\n",
    "# dropping null value columns to avoid errors \n",
    "datacopy.dropna(inplace = True) \n",
    "\n",
    "datacopy = datacopy.drop(columns = ['ID','TraderID','lastHUsr_per_LASTHRTot','Qualify','Gender','Desk'])\n",
    "\n",
    "datacopy['UserPctofTotalVol'] = (datacopy['UserPctofTotalVol'].str.strip('%').astype(float))\n",
    "datacopy['FirstHR_Usr_per_1SThR_Tot'] = (datacopy['FirstHR_Usr_per_1SThR_Tot'].str.strip('%').astype(float))\n",
    "#datacopy['lastHUsr_per_LASTHRTot'] = (datacopy['lastHUsr_per_LASTHRTot'].str.strip('%').str.strip('#DIV/0!').astype(int))\n",
    "#print(datacopy.head())\n",
    "  "
   ]
  },
  {
   "cell_type": "markdown",
   "metadata": {},
   "source": [
    "After some testing of the regression models, we  removed likert value 3 (neither disagree or agree) from the respones of Q29. Which then gave us better results on our logistic regressions. "
   ]
  },
  {
   "cell_type": "code",
   "execution_count": 42,
   "metadata": {},
   "outputs": [],
   "source": [
    "#data"
   ]
  },
  {
   "cell_type": "code",
   "execution_count": 43,
   "metadata": {},
   "outputs": [],
   "source": [
    "datacopy['Q29'] = datacopy['Q29'].map({ 1:0,2:0,4:1,5:1})"
   ]
  },
  {
   "cell_type": "code",
   "execution_count": 44,
   "metadata": {},
   "outputs": [
    {
     "name": "stdout",
     "output_type": "stream",
     "text": [
      "length of oversampled data is  280\n",
      "number disagree 140\n",
      "Number of agree 140\n",
      "Proportion disagree data in oversampled data is  0.5\n",
      "Proportion of agree data in oversampled data is  0.5\n"
     ]
    }
   ],
   "source": [
    "datacopy.dropna(inplace = True)\n",
    "X = datacopy.loc[:, datacopy.columns != 'Q29']\n",
    "y = datacopy.loc[:, datacopy.columns == 'Q29']\n",
    "from imblearn.over_sampling import SMOTE\n",
    "#pip install imblearn\n",
    "os = SMOTE(random_state=0)\n",
    "X_train, X_test, y_train, y_test = train_test_split(X, y, test_size=0.3, random_state=0)\n",
    "columns = X_train.columns\n",
    "os_data_X,os_data_y=os.fit_sample(X_train, y_train)\n",
    "os_data_X = pd.DataFrame(data=os_data_X,columns=columns )\n",
    "os_data_y= pd.DataFrame(data=os_data_y,columns=['y'])\n",
    "# we can Check the numbers of our data\n",
    "print(\"length of oversampled data is \",len(os_data_X))\n",
    "\n",
    "print(\"number disagree\",len(os_data_y[os_data_y['y']==0]))\n",
    "\n",
    "print(\"Number of agree\",len(os_data_y[os_data_y['y']==1]))\n",
    "\n",
    "print(\"Proportion disagree data in oversampled data is \",len(os_data_y[os_data_y['y']==0])/len(os_data_X))\n",
    "\n",
    "print(\"Proportion of agree data in oversampled data is \",len(os_data_y[os_data_y['y']==1])/len(os_data_X))\n",
    "\n"
   ]
  },
  {
   "cell_type": "markdown",
   "metadata": {},
   "source": [
    "By dropping response 3 (neither disagree nor agree) from our binary the over-sample above changed from 396 to 280 giving us 140 agrees and 140 disagree."
   ]
  },
  {
   "cell_type": "code",
   "execution_count": 45,
   "metadata": {},
   "outputs": [
    {
     "name": "stdout",
     "output_type": "stream",
     "text": [
      "[False False False False False False False False False False False False\n",
      "  True False False False False False False  True  True False False False\n",
      "  True False  True False False  True False  True  True  True  True  True\n",
      "  True  True False False False  True  True  True  True  True False  True\n",
      "  True]\n",
      "[13 24 23 27 10 19 18 17 16 30 25  9  1 26 29 21 22 20  8  1  1 15 11  6\n",
      "  1 28  1 12  5  1  7  1  1  1  1  1  1  1  4 14  3  1  1  1  1  1  2  1\n",
      "  1]\n"
     ]
    }
   ],
   "source": [
    "data_vars=datacopy.columns.values.tolist()\n",
    "y=['Q29']\n",
    "X=[i for i in data_vars if i not in y]\n",
    "from sklearn.feature_selection import RFE\n",
    "from sklearn.linear_model import LogisticRegression\n",
    "logreg = LogisticRegression()\n",
    "rfe = RFE(logreg, 20)\n",
    "rfe = rfe.fit(os_data_X, os_data_y.values.ravel())\n",
    "print(rfe.support_)\n",
    "print(rfe.ranking_)"
   ]
  },
  {
   "cell_type": "code",
   "execution_count": 46,
   "metadata": {},
   "outputs": [
    {
     "name": "stdout",
     "output_type": "stream",
     "text": [
      "['Price', 'RealizedTot', 'UnRealQ', 'UserVol', 'UserPctofTotalVol', 'TotalVol', 'TradeCount', 'FirstHourVol', 'FirstHourUserVol', 'lastHourVol', 'lastHourUserVol', 'FirstHR_Usr_per_1SThR_Tot', 'VWAP', 'PriceV', 'Net', 'UserBuy', 'UserSell', 'UserVolTradedBuySell', 'Strategy', 'Q4', 'Q5', 'Q1', 'Q2', 'Q3', 'Q6', 'Q7', 'Q8', 'Q9', 'Q10', 'Q11', 'Q12', 'Q13', 'Q14', 'Q15', 'Q16', 'Q17', 'Q18', 'Q19', 'Q20', 'Q21', 'Q22', 'Q23', 'Q24', 'Q26', 'Q27', 'Q45', 'Q28', 'Q47', 'Q29', 'Q30']\n"
     ]
    }
   ],
   "source": [
    "print(data_vars)"
   ]
  },
  {
   "cell_type": "markdown",
   "metadata": {},
   "source": [
    "Selecting new varibles above without repsonce 3 in Q29. "
   ]
  },
  {
   "cell_type": "code",
   "execution_count": 47,
   "metadata": {},
   "outputs": [],
   "source": [
    "cols=[ 'VWAP', 'Q4', 'Q5','Q6','Q8','Q11','Q12','Q13','Q14','Q15','Q16','Q17','Q18',\n",
    "      'Q19','Q23','Q24','Q26','Q27','Q45','Q30'] \n",
    "X=os_data_X[cols]\n",
    "y=os_data_y['y']"
   ]
  },
  {
   "cell_type": "markdown",
   "metadata": {},
   "source": [
    "## Implementing the new model with out neutral participants"
   ]
  },
  {
   "cell_type": "code",
   "execution_count": 48,
   "metadata": {},
   "outputs": [
    {
     "name": "stdout",
     "output_type": "stream",
     "text": [
      "Optimization terminated successfully.\n",
      "         Current function value: 0.507594\n",
      "         Iterations 6\n",
      "                         Results: Logit\n",
      "=================================================================\n",
      "Model:              Logit            Pseudo R-squared: 0.268     \n",
      "Dependent Variable: y                AIC:              324.2524  \n",
      "Date:               2019-08-07 16:20 BIC:              396.9482  \n",
      "No. Observations:   280              Log-Likelihood:   -142.13   \n",
      "Df Model:           19               LL-Null:          -194.08   \n",
      "Df Residuals:       260              LLR p-value:      1.0428e-13\n",
      "Converged:          1.0000           Scale:            1.0000    \n",
      "No. Iterations:     6.0000                                       \n",
      "-------------------------------------------------------------------\n",
      "           Coef.    Std.Err.      z      P>|z|     [0.025    0.975]\n",
      "-------------------------------------------------------------------\n",
      "VWAP      -0.2957     0.0909   -3.2524   0.0011   -0.4740   -0.1175\n",
      "Q4        -0.6666     0.2126   -3.1361   0.0017   -1.0832   -0.2500\n",
      "Q5         0.2843     0.1869    1.5206   0.1284   -0.0821    0.6507\n",
      "Q6        -0.2550     0.1955   -1.3045   0.1921   -0.6383    0.1282\n",
      "Q8         0.3153     0.1954    1.6133   0.1067   -0.0677    0.6983\n",
      "Q11       -0.2479     0.2693   -0.9205   0.3573   -0.7757    0.2799\n",
      "Q12        0.0308     0.2263    0.1359   0.8919   -0.4128    0.4743\n",
      "Q13        0.2445     0.2759    0.8861   0.3756   -0.2963    0.7852\n",
      "Q14        0.6373     0.1851    3.4422   0.0006    0.2744    1.0001\n",
      "Q15        0.3914     0.2527    1.5485   0.1215   -0.1040    0.8867\n",
      "Q16        0.8870     0.3430    2.5865   0.0097    0.2149    1.5592\n",
      "Q17       -1.0118     0.3242   -3.1211   0.0018   -1.6471   -0.3764\n",
      "Q18       -1.0508     0.3288   -3.1959   0.0014   -1.6952   -0.4063\n",
      "Q19        1.2261     0.3266    3.7542   0.0002    0.5860    1.8662\n",
      "Q23       -0.2508     0.1798   -1.3955   0.1629   -0.6032    0.1015\n",
      "Q24        0.2456     0.2682    0.9158   0.3598   -0.2800    0.7711\n",
      "Q26        0.8331     0.2215    3.7604   0.0002    0.3989    1.2673\n",
      "Q27       -0.4929     0.2882   -1.7102   0.0872   -1.0579    0.0720\n",
      "Q45        0.8228     0.3019    2.7250   0.0064    0.2310    1.4146\n",
      "Q30        0.4647     0.4070    1.1416   0.2536   -0.3331    1.2624\n",
      "=================================================================\n",
      "\n"
     ]
    }
   ],
   "source": [
    "import statsmodels.api as sm\n",
    "logit_model=sm.Logit(y,X.astype(float))\n",
    "result=logit_model.fit()\n",
    "print(result.summary2())"
   ]
  },
  {
   "cell_type": "markdown",
   "metadata": {},
   "source": [
    "now to select the varible based on thier pvalue < 0.05 "
   ]
  },
  {
   "cell_type": "code",
   "execution_count": 49,
   "metadata": {},
   "outputs": [
    {
     "name": "stdout",
     "output_type": "stream",
     "text": [
      "Optimization terminated successfully.\n",
      "         Current function value: 0.550654\n",
      "         Iterations 6\n",
      "                         Results: Logit\n",
      "=================================================================\n",
      "Model:              Logit            Pseudo R-squared: 0.206     \n",
      "Dependent Variable: y                AIC:              326.3660  \n",
      "Date:               2019-08-07 16:20 BIC:              359.0791  \n",
      "No. Observations:   280              Log-Likelihood:   -154.18   \n",
      "Df Model:           8                LL-Null:          -194.08   \n",
      "Df Residuals:       271              LLR p-value:      5.3725e-14\n",
      "Converged:          1.0000           Scale:            1.0000    \n",
      "No. Iterations:     6.0000                                       \n",
      "-------------------------------------------------------------------\n",
      "           Coef.    Std.Err.      z      P>|z|     [0.025    0.975]\n",
      "-------------------------------------------------------------------\n",
      "VWAP      -0.1772     0.0584   -3.0326   0.0024   -0.2918   -0.0627\n",
      "Q4        -0.6955     0.1814   -3.8350   0.0001   -1.0509   -0.3401\n",
      "Q14        0.6312     0.1622    3.8904   0.0001    0.3132    0.9492\n",
      "Q16        0.6181     0.2798    2.2091   0.0272    0.0697    1.1666\n",
      "Q17       -0.8530     0.2683   -3.1791   0.0015   -1.3790   -0.3271\n",
      "Q18       -1.0470     0.3092   -3.3867   0.0007   -1.6530   -0.4411\n",
      "Q19        1.1794     0.3002    3.9283   0.0001    0.5910    1.7678\n",
      "Q26        0.5280     0.1891    2.7922   0.0052    0.1574    0.8986\n",
      "Q45        0.7199     0.2268    3.1747   0.0015    0.2755    1.1643\n",
      "=================================================================\n",
      "\n"
     ]
    }
   ],
   "source": [
    "#running the Logistic Regession based on pvalue less than 0.05\n",
    "cols=[ 'VWAP', 'Q4', 'Q14','Q16','Q17','Q18',\n",
    "      'Q19','Q26','Q45'] \n",
    "\n",
    "X=os_data_X[cols]\n",
    "y=os_data_y['y']\n",
    "logit_model=sm.Logit(y,X)\n",
    "result=logit_model.fit()\n",
    "print(result.summary2())"
   ]
  },
  {
   "cell_type": "markdown",
   "metadata": {},
   "source": [
    "This final model with dependent variable as question 29 yields that VWAP and questions 18 and 19 are significant. Question 18 has a negative effect to the dependent variable. Question 19 has a positive effect to the dependent variable. VWAP has negative effect on the dependent variable."
   ]
  },
  {
   "cell_type": "markdown",
   "metadata": {},
   "source": [
    "Logistic Regression Model Fitting"
   ]
  },
  {
   "cell_type": "code",
   "execution_count": 50,
   "metadata": {},
   "outputs": [
    {
     "data": {
      "text/plain": [
       "LogisticRegression(C=1.0, class_weight=None, dual=False, fit_intercept=True,\n",
       "                   intercept_scaling=1, l1_ratio=None, max_iter=100,\n",
       "                   multi_class='warn', n_jobs=None, penalty='l2',\n",
       "                   random_state=None, solver='warn', tol=0.0001, verbose=0,\n",
       "                   warm_start=False)"
      ]
     },
     "execution_count": 50,
     "metadata": {},
     "output_type": "execute_result"
    }
   ],
   "source": [
    "from sklearn.linear_model import LogisticRegression\n",
    "from sklearn import metrics\n",
    "X_train, X_test, y_train, y_test = train_test_split(X, y, test_size=0.3, random_state=0)\n",
    "logreg = LogisticRegression()\n",
    "logreg.fit(X_train, y_train)"
   ]
  },
  {
   "cell_type": "markdown",
   "metadata": {},
   "source": [
    "calculating model accuracy"
   ]
  },
  {
   "cell_type": "code",
   "execution_count": 51,
   "metadata": {},
   "outputs": [
    {
     "name": "stdout",
     "output_type": "stream",
     "text": [
      "Accuracy of logistic regression classifier on test set: 0.68\n"
     ]
    }
   ],
   "source": [
    "y_pred = logreg.predict(X_test)\n",
    "print('Accuracy of logistic regression classifier on test set: {:.2f}'.format(logreg.score(X_test, y_test)))"
   ]
  },
  {
   "cell_type": "markdown",
   "metadata": {},
   "source": [
    "Accuracy of logistic regression classifier on test set: 0.68 percent accurate"
   ]
  },
  {
   "cell_type": "markdown",
   "metadata": {},
   "source": [
    "### Confusion Matrix: \n",
    "A breakdown of predictions into a table showing correct predictions (the diagonal) and the types of incorrect predictions made (what classes incorrect predictions were assigned)."
   ]
  },
  {
   "cell_type": "code",
   "execution_count": 52,
   "metadata": {},
   "outputs": [
    {
     "name": "stdout",
     "output_type": "stream",
     "text": [
      "[[26 15]\n",
      " [12 31]]\n"
     ]
    }
   ],
   "source": [
    "from sklearn.metrics import confusion_matrix\n",
    "confusion_matrix = confusion_matrix(y_test, y_pred)\n",
    "print(confusion_matrix)"
   ]
  },
  {
   "cell_type": "markdown",
   "metadata": {},
   "source": [
    "The result is telling us that we have 26+31 correct predictions and 12+15 incorrect predictions."
   ]
  },
  {
   "cell_type": "markdown",
   "metadata": {},
   "source": [
    "### Precision: \n",
    "A measure of a classifiers exactness.\n",
    "Recall: A measure of a classifiers completeness\n",
    "F1 Score (or F-score): A weighted average of precision and recall."
   ]
  },
  {
   "cell_type": "code",
   "execution_count": 53,
   "metadata": {},
   "outputs": [
    {
     "name": "stdout",
     "output_type": "stream",
     "text": [
      "              precision    recall  f1-score   support\n",
      "\n",
      "         0.0       0.68      0.63      0.66        41\n",
      "         1.0       0.67      0.72      0.70        43\n",
      "\n",
      "    accuracy                           0.68        84\n",
      "   macro avg       0.68      0.68      0.68        84\n",
      "weighted avg       0.68      0.68      0.68        84\n",
      "\n"
     ]
    }
   ],
   "source": [
    "from sklearn.metrics import classification_report\n",
    "print(classification_report(y_test, y_pred))"
   ]
  },
  {
   "cell_type": "markdown",
   "metadata": {},
   "source": [
    "### ROC Curves:\n",
    "Like precision and recall, accuracy is divided into sensitivity and specificity and models can be chosen based on the balance thresholds of these values."
   ]
  },
  {
   "cell_type": "code",
   "execution_count": 54,
   "metadata": {},
   "outputs": [
    {
     "data": {
      "image/png": "[encoded data removed]",
      "text/plain": [
       "<Figure size 432x288 with 1 Axes>"
      ]
     },
     "metadata": {},
     "output_type": "display_data"
    }
   ],
   "source": [
    "from sklearn.metrics import roc_auc_score\n",
    "from sklearn.metrics import roc_curve\n",
    "logit_roc_auc = roc_auc_score(y_test, logreg.predict(X_test))\n",
    "fpr, tpr, thresholds = roc_curve(y_test, logreg.predict_proba(X_test)[:,1])\n",
    "p=plt.figure()\n",
    "p=plt.plot(fpr, tpr, label='Logistic Regression (area = %0.2f)' % logit_roc_auc)\n",
    "p=plt.plot([0, 1], [0, 1],'r--')\n",
    "p=plt.xlim([0.0, 1.0])\n",
    "p=plt.ylim([0.0, 1.05])\n",
    "p=plt.xlabel('False Positive Rate')\n",
    "p=plt.ylabel('True Positive Rate')\n",
    "p=plt.title('Receiver operating characteristic')\n",
    "p=plt.legend(loc=\"lower right\")\n",
    "#plt.savefig('Log_ROC')\n",
    "plt.show()"
   ]
  },
  {
   "cell_type": "markdown",
   "metadata": {},
   "source": [
    "The receiver operating characteristic (ROC) curve is another common tool used with binary classifiers. The dotted line represents the ROC curve of a purely random classifier; a good classifier stays as far away from that line as possible (toward the top-left corner)."
   ]
  },
  {
   "cell_type": "code",
   "execution_count": null,
   "metadata": {},
   "outputs": [],
   "source": []
  }
 ],
 "metadata": {
  "kernelspec": {
   "display_name": "Python 3",
   "language": "python",
   "name": "python3"
  },
  "language_info": {
   "codemirror_mode": {
    "name": "ipython",
    "version": 3
   },
   "file_extension": ".py",
   "mimetype": "text/x-python",
   "name": "python",
   "nbconvert_exporter": "python",
   "pygments_lexer": "ipython3",
   "version": "3.7.3"
  }
 },
 "nbformat": 4,
 "nbformat_minor": 2
}
